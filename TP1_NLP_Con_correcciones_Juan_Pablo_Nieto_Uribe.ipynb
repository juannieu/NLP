{
  "nbformat": 4,
  "nbformat_minor": 0,
  "metadata": {
    "colab": {
      "provenance": [],
      "collapsed_sections": []
    },
    "kernelspec": {
      "name": "python3",
      "display_name": "Python 3"
    },
    "language_info": {
      "name": "python"
    }
  },
  "cells": [
    {
      "cell_type": "markdown",
      "metadata": {
        "id": "Ue5hxxkdAQJg"
      },
      "source": [
        "<img src=\"https://github.com/FIUBA-Posgrado-Inteligencia-Artificial/procesamiento_lenguaje_natural/raw/main/logoFIUBA.jpg\" width=\"500\" align=\"center\">\n",
        "\n",
        "\n",
        "# Procesamiento de lenguaje natural\n",
        "## Word2vect\n"
      ]
    },
    {
      "cell_type": "markdown",
      "source": [
        "TP1: Vectorización de texto.\n",
        "\n",
        "Juan Pablo Nieto Uribe\n",
        "\n",
        "juanpablonietou@gmail.com"
      ],
      "metadata": {
        "id": "Hnnb4sFTZvVs"
      }
    },
    {
      "cell_type": "code",
      "metadata": {
        "id": "kCED1hh-Ioyf"
      },
      "source": [
        "import numpy as np"
      ],
      "execution_count": 1,
      "outputs": []
    },
    {
      "cell_type": "code",
      "metadata": {
        "id": "PUbfVnzIIoMj"
      },
      "source": [
        "def cosine_similarity(a, b):\n",
        "    return np.dot(a, b) / (np.linalg.norm(a) * (np.linalg.norm(b)))"
      ],
      "execution_count": 2,
      "outputs": []
    },
    {
      "cell_type": "markdown",
      "metadata": {
        "id": "DMOa4JPSCJ29"
      },
      "source": [
        "### Datos"
      ]
    },
    {
      "cell_type": "code",
      "metadata": {
        "id": "RIO7b8GjAC17"
      },
      "source": [
        "corpus = np.array(['que dia es hoy', 'martes el dia de hoy es martes', 'martes muchas gracias'])"
      ],
      "execution_count": 3,
      "outputs": []
    },
    {
      "cell_type": "markdown",
      "metadata": {
        "id": "8WqdaTmO8P1r"
      },
      "source": [
        "Documento 1 --> que dia es hoy \\\n",
        "Documento 2 --> martes el dia de hoy es martes \\\n",
        "Documento 3 --> martes muchas gracias"
      ]
    },
    {
      "cell_type": "markdown",
      "metadata": {
        "id": "FVHxBRNzCMOS"
      },
      "source": [
        "### 1 - Obtener el vocabulario del corpus (los términos utilizados)\n",
        "- Cada documento transformarlo en una lista de términos\n",
        "- Armar un vector de términos no repetidos de todos los documentos"
      ]
    },
    {
      "cell_type": "code",
      "metadata": {
        "id": "3ZqTOZzDI7uv",
        "colab": {
          "base_uri": "https://localhost:8080/"
        },
        "outputId": "08ab8a5e-5031-4515-b807-ea5bcfa37da9"
      },
      "source": [
        "def constructor_LdT():\n",
        "  contador_doc=0\n",
        "  resp=[]\n",
        "  resp_temp=[]\n",
        "  for doc in corpus:\n",
        "    contador_doc+=1\n",
        "    resp_temp=[]\n",
        "    for word in doc.split():\n",
        "      resp_temp.append(word)\n",
        "    resp.append(resp_temp)\n",
        "  return resp\n",
        "\n",
        "bow=constructor_LdT()\n",
        "print(bow)"
      ],
      "execution_count": 4,
      "outputs": [
        {
          "output_type": "stream",
          "name": "stdout",
          "text": [
            "[['que', 'dia', 'es', 'hoy'], ['martes', 'el', 'dia', 'de', 'hoy', 'es', 'martes'], ['martes', 'muchas', 'gracias']]\n"
          ]
        }
      ]
    },
    {
      "cell_type": "code",
      "metadata": {
        "id": "Os0AAQo6I6Z1",
        "colab": {
          "base_uri": "https://localhost:8080/"
        },
        "outputId": "0a0ef83c-9e40-43a7-f60e-f30bf8fba880"
      },
      "source": [
        "#Dadas las listas que generamos anteriormente, las mezclamos para eliminar los elementos repetidos\n",
        "lista_merged=bow[0]+bow[1]+bow[2]\n",
        "lista_unicos=np.unique(lista_merged)\n",
        "print('--------El vector de términos no repetidos es--------------------')\n",
        "print(lista_unicos)\n",
        "print('-----------------------------------------------------------------')"
      ],
      "execution_count": 5,
      "outputs": [
        {
          "output_type": "stream",
          "name": "stdout",
          "text": [
            "--------El vector de términos no repetidos es--------------------\n",
            "['de' 'dia' 'el' 'es' 'gracias' 'hoy' 'martes' 'muchas' 'que']\n",
            "-----------------------------------------------------------------\n"
          ]
        }
      ]
    },
    {
      "cell_type": "markdown",
      "metadata": {
        "id": "RUhH983FI7It"
      },
      "source": [
        "### 2- OneHot encoding\n",
        "Dada una lista de textos, devolver una matriz con la representación oneHotEncoding de estos"
      ]
    },
    {
      "cell_type": "code",
      "source": [
        "#Definimos una matriz en ceros que vamos a poder utilizar en distintos puntos de este desafío.\n",
        "def matrizEnCeros(noRepetidos):\n",
        "  #Comenzamos por obtener la dimensión del vector de términos no repetidos, y el número de textos para crear la matriz\n",
        "  long_no_repetidos=len(lista_unicos)\n",
        "  long_corpus=len(corpus)\n",
        "\n",
        "  #Creamos el array\n",
        "  arr_resp=np.zeros((long_corpus+1,long_no_repetidos),dtype=object)\n",
        "\n",
        "  #Recorremos y agregamos los valores\n",
        "  for x in range(long_no_repetidos):\n",
        "    arr_resp[0,x]=noRepetidos[x]\n",
        "  \n",
        "  return arr_resp"
      ],
      "metadata": {
        "id": "fEnk92zVSE4_"
      },
      "execution_count": 19,
      "outputs": []
    },
    {
      "cell_type": "code",
      "source": [
        "arrRespP2=matrizEnCeros(lista_unicos)\n",
        "print(arrRespP2)"
      ],
      "metadata": {
        "colab": {
          "base_uri": "https://localhost:8080/"
        },
        "id": "sKgEmJDQVjHA",
        "outputId": "c1769af6-424c-4b48-ad8e-75f28e554479"
      },
      "execution_count": 20,
      "outputs": [
        {
          "output_type": "stream",
          "name": "stdout",
          "text": [
            "[['de' 'dia' 'el' 'es' 'gracias' 'hoy' 'martes' 'muchas' 'que']\n",
            " [0 0 0 0 0 0 0 0 0]\n",
            " [0 0 0 0 0 0 0 0 0]\n",
            " [0 0 0 0 0 0 0 0 0]]\n"
          ]
        }
      ]
    },
    {
      "cell_type": "markdown",
      "source": [
        "Ahora pasamos a crear la lista de One Hot encoding"
      ],
      "metadata": {
        "id": "DM6ARB0hYJA4"
      }
    },
    {
      "cell_type": "code",
      "source": [
        "indice_palabra=0\n",
        "for palabra in lista_unicos:\n",
        "  for linea in range(1,len(corpus)+1):\n",
        "    if palabra in bow[linea-1]:\n",
        "      arrRespP2[linea,indice_palabra]=1\n",
        "  indice_palabra+=1"
      ],
      "metadata": {
        "id": "G1p7wsFFYQ3D"
      },
      "execution_count": 21,
      "outputs": []
    },
    {
      "cell_type": "code",
      "source": [
        "print(arrRespP2)"
      ],
      "metadata": {
        "colab": {
          "base_uri": "https://localhost:8080/"
        },
        "id": "32VsAfIbaYr1",
        "outputId": "783a8217-22bb-46ed-bbcb-e3ef31f3da2c"
      },
      "execution_count": 22,
      "outputs": [
        {
          "output_type": "stream",
          "name": "stdout",
          "text": [
            "[['de' 'dia' 'el' 'es' 'gracias' 'hoy' 'martes' 'muchas' 'que']\n",
            " [0 1 0 1 0 1 0 0 1]\n",
            " [1 1 1 1 0 1 1 0 0]\n",
            " [0 0 0 0 1 0 1 1 0]]\n"
          ]
        }
      ]
    },
    {
      "cell_type": "markdown",
      "metadata": {
        "id": "IIyWGmCpJVQL"
      },
      "source": [
        "### 3- Vectores de frecuencia\n",
        "Data una lista de textos, devolver una matriz con la representación de frecuencia de estos"
      ]
    },
    {
      "cell_type": "code",
      "metadata": {
        "id": "yqij_7eHJbUi",
        "colab": {
          "base_uri": "https://localhost:8080/"
        },
        "outputId": "0887e7aa-e74f-42ad-aaeb-753a9f83e7aa"
      },
      "source": [
        "#Partiendo de una de las matrices que creamos en el punto anterior\n",
        "arrRespP3=matrizEnCeros(lista_unicos)\n",
        "print(arrRespP3)"
      ],
      "execution_count": 10,
      "outputs": [
        {
          "output_type": "stream",
          "name": "stdout",
          "text": [
            "[['de' 'dia' 'el' 'es' 'gracias' 'hoy' 'martes' 'muchas' 'que']\n",
            " [0 0 0 0 0 0 0 0 0]\n",
            " [0 0 0 0 0 0 0 0 0]\n",
            " [0 0 0 0 0 0 0 0 0]]\n"
          ]
        }
      ]
    },
    {
      "cell_type": "code",
      "source": [
        "#Recorremos de una manera parecida a lo que hicimos al punto anterior pero...\n",
        "def punto3(elCorpus):\n",
        "\n",
        "  indice_palabra=0\n",
        "  for palabra in lista_unicos:\n",
        "    for linea in range(0,len(elCorpus)):\n",
        "    #...aquí cambia\n",
        "      #print(indice_palabra,corpus[linea],'fff',palabra,'kkk',corpus[linea].count(palabra))\n",
        "      numero=corpus[linea].count(palabra)\n",
        "      arrRespP3[linea+1,indice_palabra]=numero\n",
        "    \n",
        "    indice_palabra+=1\n",
        "    return arrRespP3\n",
        "arrRespP3T=punto3(corpus)  "
      ],
      "metadata": {
        "id": "DCICZn2xcImP"
      },
      "execution_count": 17,
      "outputs": []
    },
    {
      "cell_type": "code",
      "source": [
        "print(arrRespP3T)"
      ],
      "metadata": {
        "colab": {
          "base_uri": "https://localhost:8080/"
        },
        "id": "5r4zTdRQd6bs",
        "outputId": "dc936a5e-fb20-4ae9-9f0c-eafe72f971bb"
      },
      "execution_count": 18,
      "outputs": [
        {
          "output_type": "stream",
          "name": "stdout",
          "text": [
            "[['de' 'dia' 'el' 'es' 'gracias' 'hoy' 'martes' 'muchas' 'que']\n",
            " [0 0 0 0 0 0 0 0 0]\n",
            " [1 0 0 0 0 0 0 0 0]\n",
            " [0 0 0 0 0 0 0 0 0]]\n"
          ]
        }
      ]
    },
    {
      "cell_type": "markdown",
      "metadata": {
        "id": "z_Ot8HvWJcBu"
      },
      "source": [
        "### 4- TF-IDF\n",
        "Data una lista de textos, devolver una matriz con la representacion TFIDF"
      ]
    },
    {
      "cell_type": "code",
      "source": [
        "#Partiendo de una de las matrices que nos genera la función matriz en ceros\n",
        "arrRespP4=matrizEnCeros(lista_unicos)\n",
        "print(arrRespP4)"
      ],
      "metadata": {
        "colab": {
          "base_uri": "https://localhost:8080/"
        },
        "id": "p_Ez65cGZO6b",
        "outputId": "3c09e5b9-7849-436b-ded0-99c3848a3fe8"
      },
      "execution_count": 13,
      "outputs": [
        {
          "output_type": "stream",
          "name": "stdout",
          "text": [
            "[['de' 'dia' 'el' 'es' 'gracias' 'hoy' 'martes' 'muchas' 'que']\n",
            " [0 0 0 0 0 0 0 0 0]\n",
            " [0 0 0 0 0 0 0 0 0]\n",
            " [0 0 0 0 0 0 0 0 0]]\n"
          ]
        }
      ]
    },
    {
      "cell_type": "markdown",
      "source": [
        "Teniendo en cuenta que Df será igual a sumar los valores obtenidos en el one hot encoding por columna y que tf es el valor que obtuvimos en el punto 3:"
      ],
      "metadata": {
        "id": "YqZsW9vzcuSX"
      }
    },
    {
      "cell_type": "code",
      "source": [
        "n=len(corpus)\n",
        "valsOHE=[]\n",
        "for valPalabra in range(0,len(lista_unicos)):\n",
        "  valorOHE=0\n",
        "  for val in range(1,len(corpus)+1):\n",
        "    valorOHE=valorOHE+arrRespP2[val,valPalabra]\n",
        "\n",
        "  valorOHEd=np.log10(n/valorOHE)\n",
        "  valsOHE.append(valorOHEd)\n",
        "\n",
        "  for punto3 in range(1,len(corpus)+1):\n",
        "    numAnalizado=arrRespP3T[punto3,valPalabra]\n",
        "    arrRespP4[punto3,valPalabra]=numAnalizado*valsOHE[valPalabra]\n"
      ],
      "metadata": {
        "id": "iSk3GioicuDr"
      },
      "execution_count": 14,
      "outputs": []
    },
    {
      "cell_type": "code",
      "source": [
        "print(arrRespP4)"
      ],
      "metadata": {
        "colab": {
          "base_uri": "https://localhost:8080/"
        },
        "id": "sOueKNh7buKL",
        "outputId": "bd33a7ed-c75c-4dc4-bc5a-8d7f1c12fe17"
      },
      "execution_count": 15,
      "outputs": [
        {
          "output_type": "stream",
          "name": "stdout",
          "text": [
            "[['de' 'dia' 'el' 'es' 'gracias' 'hoy' 'martes' 'muchas' 'que']\n",
            " [0.0 0.0 0.0 0.0 0.0 0.0 0.0 0.0 0.0]\n",
            " [0.47712125471966244 0.0 0.0 0.0 0.0 0.0 0.0 0.0 0.0]\n",
            " [0.0 0.0 0.0 0.0 0.0 0.0 0.0 0.0 0.0]]\n"
          ]
        }
      ]
    },
    {
      "cell_type": "markdown",
      "metadata": {
        "id": "xMcsfndWJjm_"
      },
      "source": [
        "### 5 - Comparación de documentos\n",
        "Realizar una funcion que reciba el corpus y el índice de un documento y devuelva los documentos ordenados por la similitud coseno"
      ]
    },
    {
      "cell_type": "code",
      "metadata": {
        "id": "CZdiop6IJpZN",
        "colab": {
          "base_uri": "https://localhost:8080/",
          "height": 330
        },
        "outputId": "b86d0bf6-58dd-42e5-ccf1-5b651e9bf670"
      },
      "source": [
        "def sorter(arrr):\n",
        "  k=arrr[arrr[:, -1].argsort()]\n",
        "  k2=np.flipud(k)\n",
        "  return k2\n",
        "\n",
        "def simCos(A,B):\n",
        "  arriba=np.sum(np.multiply(A,B))\n",
        "  abajoI=np.sqrt(np.sum(np.multiply(A,A)))\n",
        "  abajoD=np.sqrt(np.sum(np.multiply(B,B)))\n",
        "  abajo=np.multiply(abajoI,abajoD)\n",
        "  return arriba/abajo\n",
        "\n",
        "def simCoseno(elCorpus, indiceDoc):\n",
        "  #inicializamos una matriz con dimensiones len(corpus-1),2 que nos sirva de dimesiones\n",
        "  arrResp=np.zeros((len(elCorpus)-1,2))\n",
        "  i_resp=0\n",
        "  #Partimos del vector de  frecuencia que obtuvimos en el punto 3\n",
        "  vecs=punto3(corpus)\n",
        "  tuplaSec=[]\n",
        "  A=vecs[indiceDoc]\n",
        "  for i in range(1,len(elCorpus)+1):\n",
        "    emb=0\n",
        "    if i==indiceDoc:\n",
        "      pass\n",
        "    else:\n",
        "      B=vecs[i]\n",
        "      emb=simCos(A,B)\n",
        "      #Ponemos los valores calculados en la matriz de respuesta\n",
        "      arrResp[i_resp,0]=i\n",
        "      arrResp[i_resp,1]=emb\n",
        "      #Aumento en 1 el índice de respuesta\n",
        "      i_resp+=1\n",
        "  return sorter(arrResp)\n",
        "\n",
        "  \n",
        "\n",
        "similitudCoseno=simCoseno(corpus,1)\n"
      ],
      "execution_count": 16,
      "outputs": [
        {
          "output_type": "error",
          "ename": "TypeError",
          "evalue": "ignored",
          "traceback": [
            "\u001b[0;31m---------------------------------------------------------------------------\u001b[0m",
            "\u001b[0;31mTypeError\u001b[0m                                 Traceback (most recent call last)",
            "\u001b[0;32m<ipython-input-16-12a202aba2de>\u001b[0m in \u001b[0;36m<module>\u001b[0;34m\u001b[0m\n\u001b[1;32m     35\u001b[0m \u001b[0;34m\u001b[0m\u001b[0m\n\u001b[1;32m     36\u001b[0m \u001b[0;34m\u001b[0m\u001b[0m\n\u001b[0;32m---> 37\u001b[0;31m \u001b[0msimilitudCoseno\u001b[0m\u001b[0;34m=\u001b[0m\u001b[0msimCoseno\u001b[0m\u001b[0;34m(\u001b[0m\u001b[0mcorpus\u001b[0m\u001b[0;34m,\u001b[0m\u001b[0;36m1\u001b[0m\u001b[0;34m)\u001b[0m\u001b[0;34m\u001b[0m\u001b[0;34m\u001b[0m\u001b[0m\n\u001b[0m",
            "\u001b[0;32m<ipython-input-16-12a202aba2de>\u001b[0m in \u001b[0;36msimCoseno\u001b[0;34m(elCorpus, indiceDoc)\u001b[0m\n\u001b[1;32m     16\u001b[0m   \u001b[0mi_resp\u001b[0m\u001b[0;34m=\u001b[0m\u001b[0;36m0\u001b[0m\u001b[0;34m\u001b[0m\u001b[0;34m\u001b[0m\u001b[0m\n\u001b[1;32m     17\u001b[0m   \u001b[0;31m#Partimos del vector de  frecuencia que obtuvimos en el punto 3\u001b[0m\u001b[0;34m\u001b[0m\u001b[0;34m\u001b[0m\u001b[0;34m\u001b[0m\u001b[0m\n\u001b[0;32m---> 18\u001b[0;31m   \u001b[0mvecs\u001b[0m\u001b[0;34m=\u001b[0m\u001b[0mpunto3\u001b[0m\u001b[0;34m(\u001b[0m\u001b[0mcorpus\u001b[0m\u001b[0;34m)\u001b[0m\u001b[0;34m\u001b[0m\u001b[0;34m\u001b[0m\u001b[0m\n\u001b[0m\u001b[1;32m     19\u001b[0m   \u001b[0mtuplaSec\u001b[0m\u001b[0;34m=\u001b[0m\u001b[0;34m[\u001b[0m\u001b[0;34m]\u001b[0m\u001b[0;34m\u001b[0m\u001b[0;34m\u001b[0m\u001b[0m\n\u001b[1;32m     20\u001b[0m   \u001b[0mA\u001b[0m\u001b[0;34m=\u001b[0m\u001b[0mvecs\u001b[0m\u001b[0;34m[\u001b[0m\u001b[0mindiceDoc\u001b[0m\u001b[0;34m]\u001b[0m\u001b[0;34m\u001b[0m\u001b[0;34m\u001b[0m\u001b[0m\n",
            "\u001b[0;31mTypeError\u001b[0m: 'int' object is not callable"
          ]
        }
      ]
    },
    {
      "cell_type": "code",
      "source": [
        "print(similitudCoseno)"
      ],
      "metadata": {
        "id": "7iB6z-Y-Il1p"
      },
      "execution_count": null,
      "outputs": []
    }
  ]
}