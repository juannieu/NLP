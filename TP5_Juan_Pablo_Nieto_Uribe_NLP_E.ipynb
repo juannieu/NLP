{
  "nbformat": 4,
  "nbformat_minor": 0,
  "metadata": {
    "colab": {
      "provenance": [],
      "collapsed_sections": []
    },
    "kernelspec": {
      "name": "python3",
      "display_name": "Python 3"
    },
    "language_info": {
      "name": "python"
    },
    "accelerator": "GPU"
  },
  "cells": [
    {
      "cell_type": "markdown",
      "metadata": {
        "id": "kBLpTr7plguX"
      },
      "source": [
        "<img src=\"https://github.com/hernancontigiani/ceia_memorias_especializacion/raw/master/Figures/logoFIUBA.jpg\" width=\"500\" align=\"center\">\n",
        "\n",
        "\n",
        "# Procesamiento de lenguaje natural\n",
        "## Sentiment analysis con Embeddings + LSTM"
      ]
    },
    {
      "cell_type": "markdown",
      "metadata": {
        "id": "9W6nuajhlqZD"
      },
      "source": [
        "### Objetivo\n",
        "El objetivo es utilizar las críticas de compradores de ropa para que el sistema determine la evaluación del comprador y su crítica (cuantas estrellas le asigna al producto)."
      ]
    },
    {
      "cell_type": "code",
      "source": [
        "!pip install --upgrade --no-cache-dir gdown --quiet"
      ],
      "metadata": {
        "id": "i6zvzv3qZ6xS",
        "colab": {
          "base_uri": "https://localhost:8080/"
        },
        "outputId": "00a7c448-aed8-4e57-93a0-096d7d19506a"
      },
      "execution_count": 1,
      "outputs": [
        {
          "output_type": "stream",
          "name": "stdout",
          "text": [
            "  Installing build dependencies ... \u001b[?25l\u001b[?25hdone\n",
            "  Getting requirements to build wheel ... \u001b[?25l\u001b[?25hdone\n",
            "    Preparing wheel metadata ... \u001b[?25l\u001b[?25hdone\n",
            "  Building wheel for gdown (PEP 517) ... \u001b[?25l\u001b[?25hdone\n"
          ]
        }
      ]
    },
    {
      "cell_type": "code",
      "metadata": {
        "id": "hCpOVzJdl8_p"
      },
      "source": [
        "import numpy as np\n",
        "import random\n",
        "import io\n",
        "import pickle\n",
        "import pandas as pd\n",
        "\n",
        "import matplotlib.pyplot as plt\n",
        "import seaborn as sns\n",
        "\n",
        "from tensorflow import keras\n",
        "from tensorflow.keras import layers\n",
        "\n",
        "from keras.utils.np_utils import to_categorical\n",
        "from keras_preprocessing.sequence import pad_sequences\n",
        "from keras.models import Sequential\n",
        "from keras.layers import Dense\n",
        "from keras.layers import LSTM\n",
        "from keras.layers import Embedding"
      ],
      "execution_count": 2,
      "outputs": []
    },
    {
      "cell_type": "markdown",
      "metadata": {
        "id": "8UPeRkrAmbF3"
      },
      "source": [
        "### Datos\n",
        "Utilizaremos como dataset críticas de compradores de ropa (eCommerce) los cuales puntuaron a cada prenda con un puntaje de 1 a 5 estrellas.\\\n",
        "Referencia del dataset: [LINK](https://www.kaggle.com/nicapotato/womens-ecommerce-clothing-reviews/version/1)"
      ]
    },
    {
      "cell_type": "code",
      "metadata": {
        "id": "C7jLvTU3lSyL",
        "colab": {
          "base_uri": "https://localhost:8080/"
        },
        "outputId": "921bf9f8-ed9d-4e4a-f3e2-a79e8d1db104"
      },
      "source": [
        "# Descargar la carpeta de dataset\n",
        "import os\n",
        "import gdown\n",
        "if os.access('clothing_ecommerce_reviews.csv', os.F_OK) is False:\n",
        "    url = 'https://drive.google.com/uc?id=1k2Dz4oY5uxI3JEaT6m-L2T2HvLkECYIP'\n",
        "    output = 'clothing_ecommerce_reviews.csv'\n",
        "    gdown.download(url, output, quiet=False)\n",
        "else:\n",
        "    print(\"El dataset ya se encuentra descargado\")"
      ],
      "execution_count": 3,
      "outputs": [
        {
          "output_type": "stream",
          "name": "stderr",
          "text": [
            "Downloading...\n",
            "From: https://drive.google.com/uc?id=1k2Dz4oY5uxI3JEaT6m-L2T2HvLkECYIP\n",
            "To: /content/clothing_ecommerce_reviews.csv\n",
            "100%|██████████| 8.48M/8.48M [00:00<00:00, 38.5MB/s]\n"
          ]
        }
      ]
    },
    {
      "cell_type": "code",
      "metadata": {
        "id": "o-SV1P3dnD1J",
        "colab": {
          "base_uri": "https://localhost:8080/",
          "height": 206
        },
        "outputId": "5aae9c0f-9c85-4f14-e6a8-a69c7cc9b5ef"
      },
      "source": [
        "# Armar el dataset\n",
        "df = pd.read_csv('clothing_ecommerce_reviews.csv')\n",
        "df.drop(columns = ['Unnamed: 0'], inplace = True)\n",
        "df.head()"
      ],
      "execution_count": 4,
      "outputs": [
        {
          "output_type": "execute_result",
          "data": {
            "text/plain": [
              "   Clothing ID  Age                    Title  \\\n",
              "0          767   33                      NaN   \n",
              "1         1080   34                      NaN   \n",
              "2         1077   60  Some major design flaws   \n",
              "3         1049   50         My favorite buy!   \n",
              "4          847   47         Flattering shirt   \n",
              "\n",
              "                                         Review Text  Rating  Recommended IND  \\\n",
              "0  Absolutely wonderful - silky and sexy and comf...       4                1   \n",
              "1  Love this dress!  it's sooo pretty.  i happene...       5                1   \n",
              "2  I had such high hopes for this dress and reall...       3                0   \n",
              "3  I love, love, love this jumpsuit. it's fun, fl...       5                1   \n",
              "4  This shirt is very flattering to all due to th...       5                1   \n",
              "\n",
              "   Positive Feedback Count   Division Name Department Name Class Name  \n",
              "0                        0       Initmates        Intimate  Intimates  \n",
              "1                        4         General         Dresses    Dresses  \n",
              "2                        0         General         Dresses    Dresses  \n",
              "3                        0  General Petite         Bottoms      Pants  \n",
              "4                        6         General            Tops    Blouses  "
            ],
            "text/html": [
              "\n",
              "  <div id=\"df-b9f425ed-9202-4504-9943-8a4f64471be6\">\n",
              "    <div class=\"colab-df-container\">\n",
              "      <div>\n",
              "<style scoped>\n",
              "    .dataframe tbody tr th:only-of-type {\n",
              "        vertical-align: middle;\n",
              "    }\n",
              "\n",
              "    .dataframe tbody tr th {\n",
              "        vertical-align: top;\n",
              "    }\n",
              "\n",
              "    .dataframe thead th {\n",
              "        text-align: right;\n",
              "    }\n",
              "</style>\n",
              "<table border=\"1\" class=\"dataframe\">\n",
              "  <thead>\n",
              "    <tr style=\"text-align: right;\">\n",
              "      <th></th>\n",
              "      <th>Clothing ID</th>\n",
              "      <th>Age</th>\n",
              "      <th>Title</th>\n",
              "      <th>Review Text</th>\n",
              "      <th>Rating</th>\n",
              "      <th>Recommended IND</th>\n",
              "      <th>Positive Feedback Count</th>\n",
              "      <th>Division Name</th>\n",
              "      <th>Department Name</th>\n",
              "      <th>Class Name</th>\n",
              "    </tr>\n",
              "  </thead>\n",
              "  <tbody>\n",
              "    <tr>\n",
              "      <th>0</th>\n",
              "      <td>767</td>\n",
              "      <td>33</td>\n",
              "      <td>NaN</td>\n",
              "      <td>Absolutely wonderful - silky and sexy and comf...</td>\n",
              "      <td>4</td>\n",
              "      <td>1</td>\n",
              "      <td>0</td>\n",
              "      <td>Initmates</td>\n",
              "      <td>Intimate</td>\n",
              "      <td>Intimates</td>\n",
              "    </tr>\n",
              "    <tr>\n",
              "      <th>1</th>\n",
              "      <td>1080</td>\n",
              "      <td>34</td>\n",
              "      <td>NaN</td>\n",
              "      <td>Love this dress!  it's sooo pretty.  i happene...</td>\n",
              "      <td>5</td>\n",
              "      <td>1</td>\n",
              "      <td>4</td>\n",
              "      <td>General</td>\n",
              "      <td>Dresses</td>\n",
              "      <td>Dresses</td>\n",
              "    </tr>\n",
              "    <tr>\n",
              "      <th>2</th>\n",
              "      <td>1077</td>\n",
              "      <td>60</td>\n",
              "      <td>Some major design flaws</td>\n",
              "      <td>I had such high hopes for this dress and reall...</td>\n",
              "      <td>3</td>\n",
              "      <td>0</td>\n",
              "      <td>0</td>\n",
              "      <td>General</td>\n",
              "      <td>Dresses</td>\n",
              "      <td>Dresses</td>\n",
              "    </tr>\n",
              "    <tr>\n",
              "      <th>3</th>\n",
              "      <td>1049</td>\n",
              "      <td>50</td>\n",
              "      <td>My favorite buy!</td>\n",
              "      <td>I love, love, love this jumpsuit. it's fun, fl...</td>\n",
              "      <td>5</td>\n",
              "      <td>1</td>\n",
              "      <td>0</td>\n",
              "      <td>General Petite</td>\n",
              "      <td>Bottoms</td>\n",
              "      <td>Pants</td>\n",
              "    </tr>\n",
              "    <tr>\n",
              "      <th>4</th>\n",
              "      <td>847</td>\n",
              "      <td>47</td>\n",
              "      <td>Flattering shirt</td>\n",
              "      <td>This shirt is very flattering to all due to th...</td>\n",
              "      <td>5</td>\n",
              "      <td>1</td>\n",
              "      <td>6</td>\n",
              "      <td>General</td>\n",
              "      <td>Tops</td>\n",
              "      <td>Blouses</td>\n",
              "    </tr>\n",
              "  </tbody>\n",
              "</table>\n",
              "</div>\n",
              "      <button class=\"colab-df-convert\" onclick=\"convertToInteractive('df-b9f425ed-9202-4504-9943-8a4f64471be6')\"\n",
              "              title=\"Convert this dataframe to an interactive table.\"\n",
              "              style=\"display:none;\">\n",
              "        \n",
              "  <svg xmlns=\"http://www.w3.org/2000/svg\" height=\"24px\"viewBox=\"0 0 24 24\"\n",
              "       width=\"24px\">\n",
              "    <path d=\"M0 0h24v24H0V0z\" fill=\"none\"/>\n",
              "    <path d=\"M18.56 5.44l.94 2.06.94-2.06 2.06-.94-2.06-.94-.94-2.06-.94 2.06-2.06.94zm-11 1L8.5 8.5l.94-2.06 2.06-.94-2.06-.94L8.5 2.5l-.94 2.06-2.06.94zm10 10l.94 2.06.94-2.06 2.06-.94-2.06-.94-.94-2.06-.94 2.06-2.06.94z\"/><path d=\"M17.41 7.96l-1.37-1.37c-.4-.4-.92-.59-1.43-.59-.52 0-1.04.2-1.43.59L10.3 9.45l-7.72 7.72c-.78.78-.78 2.05 0 2.83L4 21.41c.39.39.9.59 1.41.59.51 0 1.02-.2 1.41-.59l7.78-7.78 2.81-2.81c.8-.78.8-2.07 0-2.86zM5.41 20L4 18.59l7.72-7.72 1.47 1.35L5.41 20z\"/>\n",
              "  </svg>\n",
              "      </button>\n",
              "      \n",
              "  <style>\n",
              "    .colab-df-container {\n",
              "      display:flex;\n",
              "      flex-wrap:wrap;\n",
              "      gap: 12px;\n",
              "    }\n",
              "\n",
              "    .colab-df-convert {\n",
              "      background-color: #E8F0FE;\n",
              "      border: none;\n",
              "      border-radius: 50%;\n",
              "      cursor: pointer;\n",
              "      display: none;\n",
              "      fill: #1967D2;\n",
              "      height: 32px;\n",
              "      padding: 0 0 0 0;\n",
              "      width: 32px;\n",
              "    }\n",
              "\n",
              "    .colab-df-convert:hover {\n",
              "      background-color: #E2EBFA;\n",
              "      box-shadow: 0px 1px 2px rgba(60, 64, 67, 0.3), 0px 1px 3px 1px rgba(60, 64, 67, 0.15);\n",
              "      fill: #174EA6;\n",
              "    }\n",
              "\n",
              "    [theme=dark] .colab-df-convert {\n",
              "      background-color: #3B4455;\n",
              "      fill: #D2E3FC;\n",
              "    }\n",
              "\n",
              "    [theme=dark] .colab-df-convert:hover {\n",
              "      background-color: #434B5C;\n",
              "      box-shadow: 0px 1px 3px 1px rgba(0, 0, 0, 0.15);\n",
              "      filter: drop-shadow(0px 1px 2px rgba(0, 0, 0, 0.3));\n",
              "      fill: #FFFFFF;\n",
              "    }\n",
              "  </style>\n",
              "\n",
              "      <script>\n",
              "        const buttonEl =\n",
              "          document.querySelector('#df-b9f425ed-9202-4504-9943-8a4f64471be6 button.colab-df-convert');\n",
              "        buttonEl.style.display =\n",
              "          google.colab.kernel.accessAllowed ? 'block' : 'none';\n",
              "\n",
              "        async function convertToInteractive(key) {\n",
              "          const element = document.querySelector('#df-b9f425ed-9202-4504-9943-8a4f64471be6');\n",
              "          const dataTable =\n",
              "            await google.colab.kernel.invokeFunction('convertToInteractive',\n",
              "                                                     [key], {});\n",
              "          if (!dataTable) return;\n",
              "\n",
              "          const docLinkHtml = 'Like what you see? Visit the ' +\n",
              "            '<a target=\"_blank\" href=https://colab.research.google.com/notebooks/data_table.ipynb>data table notebook</a>'\n",
              "            + ' to learn more about interactive tables.';\n",
              "          element.innerHTML = '';\n",
              "          dataTable['output_type'] = 'display_data';\n",
              "          await google.colab.output.renderOutput(dataTable, element);\n",
              "          const docLink = document.createElement('div');\n",
              "          docLink.innerHTML = docLinkHtml;\n",
              "          element.appendChild(docLink);\n",
              "        }\n",
              "      </script>\n",
              "    </div>\n",
              "  </div>\n",
              "  "
            ]
          },
          "metadata": {},
          "execution_count": 4
        }
      ]
    },
    {
      "cell_type": "code",
      "source": [
        "df.shape"
      ],
      "metadata": {
        "colab": {
          "base_uri": "https://localhost:8080/"
        },
        "id": "eaVNcz8G4hXo",
        "outputId": "4540b097-a505-4d68-ca5e-33c6d3d07835"
      },
      "execution_count": 5,
      "outputs": [
        {
          "output_type": "execute_result",
          "data": {
            "text/plain": [
              "(23486, 10)"
            ]
          },
          "metadata": {},
          "execution_count": 5
        }
      ]
    },
    {
      "cell_type": "markdown",
      "metadata": {
        "id": "q-OwSePKm-FK"
      },
      "source": [
        "### 1 - Limpieza de datos\n",
        "Alumno:\n",
        "- Del dataset unicamente utilizar las columnas \"Review Text\" y \"Rating.\n",
        "- Tranformar el rating 1-5 a una escala numérica de 0 a 4.\n",
        "\n"
      ]
    },
    {
      "cell_type": "code",
      "metadata": {
        "id": "-hc7-AmYnPC3",
        "colab": {
          "base_uri": "https://localhost:8080/",
          "height": 206
        },
        "outputId": "3db92391-48d4-40ce-e317-7977e67d6fe1"
      },
      "source": [
        "df_reviews = df.loc[:, ['Review Text', 'Rating']].dropna()\n",
        "df_reviews['Rating'] = df_reviews['Rating'] - 1\n",
        "df_reviews.head()"
      ],
      "execution_count": 6,
      "outputs": [
        {
          "output_type": "execute_result",
          "data": {
            "text/plain": [
              "                                         Review Text  Rating\n",
              "0  Absolutely wonderful - silky and sexy and comf...       3\n",
              "1  Love this dress!  it's sooo pretty.  i happene...       4\n",
              "2  I had such high hopes for this dress and reall...       2\n",
              "3  I love, love, love this jumpsuit. it's fun, fl...       4\n",
              "4  This shirt is very flattering to all due to th...       4"
            ],
            "text/html": [
              "\n",
              "  <div id=\"df-ea2e83f5-7b5d-4b75-958c-55d036f93d9f\">\n",
              "    <div class=\"colab-df-container\">\n",
              "      <div>\n",
              "<style scoped>\n",
              "    .dataframe tbody tr th:only-of-type {\n",
              "        vertical-align: middle;\n",
              "    }\n",
              "\n",
              "    .dataframe tbody tr th {\n",
              "        vertical-align: top;\n",
              "    }\n",
              "\n",
              "    .dataframe thead th {\n",
              "        text-align: right;\n",
              "    }\n",
              "</style>\n",
              "<table border=\"1\" class=\"dataframe\">\n",
              "  <thead>\n",
              "    <tr style=\"text-align: right;\">\n",
              "      <th></th>\n",
              "      <th>Review Text</th>\n",
              "      <th>Rating</th>\n",
              "    </tr>\n",
              "  </thead>\n",
              "  <tbody>\n",
              "    <tr>\n",
              "      <th>0</th>\n",
              "      <td>Absolutely wonderful - silky and sexy and comf...</td>\n",
              "      <td>3</td>\n",
              "    </tr>\n",
              "    <tr>\n",
              "      <th>1</th>\n",
              "      <td>Love this dress!  it's sooo pretty.  i happene...</td>\n",
              "      <td>4</td>\n",
              "    </tr>\n",
              "    <tr>\n",
              "      <th>2</th>\n",
              "      <td>I had such high hopes for this dress and reall...</td>\n",
              "      <td>2</td>\n",
              "    </tr>\n",
              "    <tr>\n",
              "      <th>3</th>\n",
              "      <td>I love, love, love this jumpsuit. it's fun, fl...</td>\n",
              "      <td>4</td>\n",
              "    </tr>\n",
              "    <tr>\n",
              "      <th>4</th>\n",
              "      <td>This shirt is very flattering to all due to th...</td>\n",
              "      <td>4</td>\n",
              "    </tr>\n",
              "  </tbody>\n",
              "</table>\n",
              "</div>\n",
              "      <button class=\"colab-df-convert\" onclick=\"convertToInteractive('df-ea2e83f5-7b5d-4b75-958c-55d036f93d9f')\"\n",
              "              title=\"Convert this dataframe to an interactive table.\"\n",
              "              style=\"display:none;\">\n",
              "        \n",
              "  <svg xmlns=\"http://www.w3.org/2000/svg\" height=\"24px\"viewBox=\"0 0 24 24\"\n",
              "       width=\"24px\">\n",
              "    <path d=\"M0 0h24v24H0V0z\" fill=\"none\"/>\n",
              "    <path d=\"M18.56 5.44l.94 2.06.94-2.06 2.06-.94-2.06-.94-.94-2.06-.94 2.06-2.06.94zm-11 1L8.5 8.5l.94-2.06 2.06-.94-2.06-.94L8.5 2.5l-.94 2.06-2.06.94zm10 10l.94 2.06.94-2.06 2.06-.94-2.06-.94-.94-2.06-.94 2.06-2.06.94z\"/><path d=\"M17.41 7.96l-1.37-1.37c-.4-.4-.92-.59-1.43-.59-.52 0-1.04.2-1.43.59L10.3 9.45l-7.72 7.72c-.78.78-.78 2.05 0 2.83L4 21.41c.39.39.9.59 1.41.59.51 0 1.02-.2 1.41-.59l7.78-7.78 2.81-2.81c.8-.78.8-2.07 0-2.86zM5.41 20L4 18.59l7.72-7.72 1.47 1.35L5.41 20z\"/>\n",
              "  </svg>\n",
              "      </button>\n",
              "      \n",
              "  <style>\n",
              "    .colab-df-container {\n",
              "      display:flex;\n",
              "      flex-wrap:wrap;\n",
              "      gap: 12px;\n",
              "    }\n",
              "\n",
              "    .colab-df-convert {\n",
              "      background-color: #E8F0FE;\n",
              "      border: none;\n",
              "      border-radius: 50%;\n",
              "      cursor: pointer;\n",
              "      display: none;\n",
              "      fill: #1967D2;\n",
              "      height: 32px;\n",
              "      padding: 0 0 0 0;\n",
              "      width: 32px;\n",
              "    }\n",
              "\n",
              "    .colab-df-convert:hover {\n",
              "      background-color: #E2EBFA;\n",
              "      box-shadow: 0px 1px 2px rgba(60, 64, 67, 0.3), 0px 1px 3px 1px rgba(60, 64, 67, 0.15);\n",
              "      fill: #174EA6;\n",
              "    }\n",
              "\n",
              "    [theme=dark] .colab-df-convert {\n",
              "      background-color: #3B4455;\n",
              "      fill: #D2E3FC;\n",
              "    }\n",
              "\n",
              "    [theme=dark] .colab-df-convert:hover {\n",
              "      background-color: #434B5C;\n",
              "      box-shadow: 0px 1px 3px 1px rgba(0, 0, 0, 0.15);\n",
              "      filter: drop-shadow(0px 1px 2px rgba(0, 0, 0, 0.3));\n",
              "      fill: #FFFFFF;\n",
              "    }\n",
              "  </style>\n",
              "\n",
              "      <script>\n",
              "        const buttonEl =\n",
              "          document.querySelector('#df-ea2e83f5-7b5d-4b75-958c-55d036f93d9f button.colab-df-convert');\n",
              "        buttonEl.style.display =\n",
              "          google.colab.kernel.accessAllowed ? 'block' : 'none';\n",
              "\n",
              "        async function convertToInteractive(key) {\n",
              "          const element = document.querySelector('#df-ea2e83f5-7b5d-4b75-958c-55d036f93d9f');\n",
              "          const dataTable =\n",
              "            await google.colab.kernel.invokeFunction('convertToInteractive',\n",
              "                                                     [key], {});\n",
              "          if (!dataTable) return;\n",
              "\n",
              "          const docLinkHtml = 'Like what you see? Visit the ' +\n",
              "            '<a target=\"_blank\" href=https://colab.research.google.com/notebooks/data_table.ipynb>data table notebook</a>'\n",
              "            + ' to learn more about interactive tables.';\n",
              "          element.innerHTML = '';\n",
              "          dataTable['output_type'] = 'display_data';\n",
              "          await google.colab.output.renderOutput(dataTable, element);\n",
              "          const docLink = document.createElement('div');\n",
              "          docLink.innerHTML = docLinkHtml;\n",
              "          element.appendChild(docLink);\n",
              "        }\n",
              "      </script>\n",
              "    </div>\n",
              "  </div>\n",
              "  "
            ]
          },
          "metadata": {},
          "execution_count": 6
        }
      ]
    },
    {
      "cell_type": "code",
      "metadata": {
        "id": "sZtvASVOn3ty",
        "colab": {
          "base_uri": "https://localhost:8080/",
          "height": 262
        },
        "outputId": "997c9468-a1ce-422d-da71-49d93fa53d5e"
      },
      "source": [
        "# Alumno: Observar como está distribuido el dataset respecto a la columna Rating\n",
        "# es decir, observar que tan balanceado se encuentra respecot a cada clase\n",
        "cuenta=df['Rating'].value_counts(5).plot(kind='bar')"
      ],
      "execution_count": 7,
      "outputs": [
        {
          "output_type": "display_data",
          "data": {
            "text/plain": [
              "<Figure size 432x288 with 1 Axes>"
            ],
            "image/png": "[encoded data removed]"
          },
          "metadata": {
            "needs_background": "light"
          }
        }
      ]
    },
    {
      "cell_type": "markdown",
      "source": [
        "Podemos observar que el dataset tiene un sesgo bastante grande hacia el número 5. Dicho esto, más adelante tendremos que tener eso en cuenta.\n"
      ],
      "metadata": {
        "id": "wkDksXbmfoK_"
      }
    },
    {
      "cell_type": "code",
      "metadata": {
        "id": "gVJ_RVi4o1h3"
      },
      "source": [
        "# Alumno: tomar la columna de las review y almacenarlo todo en un vector numpy de reviews\n",
        "resegnas=df['Review Text']\n",
        "resegnas_np=resegnas.to_numpy()"
      ],
      "execution_count": 8,
      "outputs": []
    },
    {
      "cell_type": "code",
      "metadata": {
        "id": "4nT5Un_co65Q",
        "colab": {
          "base_uri": "https://localhost:8080/"
        },
        "outputId": "34731bfb-a2ac-4750-ca34-a3e67f61faa4"
      },
      "source": [
        "# Alumno: Cuantas reviews (rows) hay para evaluar?\n",
        "resegnas_np.shape"
      ],
      "execution_count": 9,
      "outputs": [
        {
          "output_type": "execute_result",
          "data": {
            "text/plain": [
              "(23486,)"
            ]
          },
          "metadata": {},
          "execution_count": 9
        }
      ]
    },
    {
      "cell_type": "code",
      "source": [
        "# Alumno: Concatenar todas las reviews para armar el corpus\n",
        "#Usamos la función map teniendo en cuenta que algunos puntos los marca como float\n",
        "corpus=' '.join(map(str,resegnas_np))"
      ],
      "metadata": {
        "id": "Qlu3_gxq1VkU"
      },
      "execution_count": 10,
      "outputs": []
    },
    {
      "cell_type": "code",
      "metadata": {
        "id": "FEzmePgdpf74",
        "colab": {
          "base_uri": "https://localhost:8080/"
        },
        "outputId": "fb3a0c7c-4d4a-40f0-b475-49f310e934be"
      },
      "source": [
        "# Alumno: ¿Cuál es la longitud de ese corpus?\n",
        "print(len(corpus))"
      ],
      "execution_count": 11,
      "outputs": [
        {
          "output_type": "stream",
          "name": "stdout",
          "text": [
            "7015023\n"
          ]
        }
      ]
    },
    {
      "cell_type": "code",
      "metadata": {
        "id": "MYeJLdDmpvOe"
      },
      "source": [
        "# Alumno: Utilizar \"text_to_word_sequence\" para separar las palabras en tokens\n",
        "# recordar que text_to_word_sequence automaticamente quita los signos de puntuacion y pasa el texto a lowercase\n",
        "from keras.preprocessing.text import text_to_word_sequence as ttws\n",
        "ttws_corpus=ttws(corpus)"
      ],
      "execution_count": 12,
      "outputs": []
    },
    {
      "cell_type": "code",
      "metadata": {
        "id": "M6L-fnWAp_lA",
        "colab": {
          "base_uri": "https://localhost:8080/"
        },
        "outputId": "315b2f4d-e2a9-4618-98c3-19937477ccd5"
      },
      "source": [
        "# Alumno: Dar un vistazo a los primeros 20 tokens/palabras\n",
        "print(ttws_corpus[:20])"
      ],
      "execution_count": 13,
      "outputs": [
        {
          "output_type": "stream",
          "name": "stdout",
          "text": [
            "['absolutely', 'wonderful', 'silky', 'and', 'sexy', 'and', 'comfortable', 'love', 'this', 'dress', \"it's\", 'sooo', 'pretty', 'i', 'happened', 'to', 'find', 'it', 'in', 'a']\n"
          ]
        }
      ]
    },
    {
      "cell_type": "code",
      "metadata": {
        "id": "-8QgwwMUqG0d",
        "colab": {
          "base_uri": "https://localhost:8080/"
        },
        "outputId": "56379038-d6ef-4534-9d8e-79a2b9f96597"
      },
      "source": [
        "# Alumno: ¿Cuántos tokens/palabras hay? \n",
        "len(ttws_corpus)"
      ],
      "execution_count": 14,
      "outputs": [
        {
          "output_type": "execute_result",
          "data": {
            "text/plain": [
              "1373048"
            ]
          },
          "metadata": {},
          "execution_count": 14
        }
      ]
    },
    {
      "cell_type": "code",
      "source": [
        "print(corpus[:20])\n",
        "print(ttws_corpus[:20])"
      ],
      "metadata": {
        "colab": {
          "base_uri": "https://localhost:8080/"
        },
        "id": "A5w3GuNQJ_ns",
        "outputId": "f3a1cf97-2db7-4d04-ae59-9f4b94b5343f"
      },
      "execution_count": 15,
      "outputs": [
        {
          "output_type": "stream",
          "name": "stdout",
          "text": [
            "Absolutely wonderful\n",
            "['absolutely', 'wonderful', 'silky', 'and', 'sexy', 'and', 'comfortable', 'love', 'this', 'dress', \"it's\", 'sooo', 'pretty', 'i', 'happened', 'to', 'find', 'it', 'in', 'a']\n"
          ]
        }
      ]
    },
    {
      "cell_type": "code",
      "metadata": {
        "id": "TFukNZdOsZ8_"
      },
      "source": [
        "# Alumno: Tokenizar las palabras con el Tokenizer de Keras\n",
        "# Definir una máxima cantidad de palabras a utilizar:\n",
        "# num_words --> the maximum number of words to keep, based on word frequency.\n",
        "# Only the most common num_words-1 words will be kept.\n",
        "from keras.preprocessing.text import Tokenizer as ttkeras\n",
        "num_words = 2000\n",
        "vocab_size = num_words\n",
        "\n",
        "tokenizer_keras=ttkeras(num_words=vocab_size)\n",
        "tokenizer_keras.fit_on_texts(ttws_corpus)"
      ],
      "execution_count": 16,
      "outputs": []
    },
    {
      "cell_type": "code",
      "metadata": {
        "id": "JnR1tlqZy94X",
        "colab": {
          "base_uri": "https://localhost:8080/"
        },
        "outputId": "c8c6de3b-7b2e-4e66-a08b-29f5f770beca"
      },
      "source": [
        "# Alumno: Obtener el diccionario de palabra (word) a índice\n",
        "# y observar la cantidad total del vocabulario\n",
        "word_index=tokenizer_keras.word_index\n",
        "len(word_index)"
      ],
      "execution_count": 17,
      "outputs": [
        {
          "output_type": "execute_result",
          "data": {
            "text/plain": [
              "14848"
            ]
          },
          "metadata": {},
          "execution_count": 17
        }
      ]
    },
    {
      "cell_type": "code",
      "metadata": {
        "id": "AvWzzSretQXf",
        "colab": {
          "base_uri": "https://localhost:8080/"
        },
        "outputId": "fe0c0896-4532-4b27-9768-88fd2e8599d8"
      },
      "source": [
        "# Alumno: Convertir las palabras/tokens a números\n",
        "secuencias_keras=tokenizer_keras.texts_to_sequences(map(str,resegnas_np))\n",
        "len(secuencias_keras)"
      ],
      "execution_count": 18,
      "outputs": [
        {
          "output_type": "execute_result",
          "data": {
            "text/plain": [
              "23486"
            ]
          },
          "metadata": {},
          "execution_count": 18
        }
      ]
    },
    {
      "cell_type": "code",
      "source": [
        "print(secuencias_keras[:20])"
      ],
      "metadata": {
        "colab": {
          "base_uri": "https://localhost:8080/"
        },
        "id": "TJWBNF3k70is",
        "outputId": "d441cc49-9797-4e24-eed5-a7c991ff273b"
      },
      "execution_count": 19,
      "outputs": [
        {
          "output_type": "stream",
          "name": "stdout",
          "text": [
            "[[254, 533, 918, 3, 663, 3, 68], [21, 7, 18, 33, 1714, 99, 2, 1323, 8, 221, 5, 9, 4, 106, 3, 36, 315, 2, 131, 1244, 2, 430, 41, 24, 52, 5, 136, 1244, 33, 95, 2, 72, 4, 95, 3, 38, 502, 2, 21, 1, 86, 11, 31, 417, 39, 4, 53, 455, 1, 393, 41, 155, 29, 4, 130, 1373, 11, 439, 440, 6, 773, 95], [2, 65, 313, 178, 1096, 12, 7, 18, 3, 51, 195, 5, 8, 102, 12, 31, 2, 1153, 52, 1, 95, 46, 17, 236, 22, 10, 2, 219, 7, 8, 29, 46, 16, 46, 9, 662, 20, 2, 118, 19, 785, 5, 43, 2, 5, 9, 95, 97, 82, 15, 39, 638, 251, 1, 25, 657, 15, 68, 3, 26, 259, 10, 1, 175, 657, 65, 4, 23, 148, 273, 476, 3, 528, 719, 490, 151, 976, 1877, 4, 1878, 142, 1590, 15, 1, 151, 476, 831, 314, 1, 470, 5, 689], [2, 21, 21, 21, 7, 631, 33, 284, 1303, 3, 789, 317, 183, 2, 32, 5, 2, 115, 534, 10, 34, 210], [7, 80, 6, 23, 58, 8, 75, 487, 8, 1, 1158, 156, 468, 5, 6, 1, 54, 86, 8, 32, 14, 269, 3, 5, 6, 1191, 16, 5, 832, 59, 14, 252, 396, 21, 7, 80], [2, 21, 1979, 1980, 238, 10, 7, 56, 6, 19, 12, 1, 23, 95, 2, 38, 39, 273, 266, 1025, 323, 3, 107, 32, 4, 1125, 9, 7, 481, 7, 18, 15, 23, 99, 62, 13, 1, 1026, 10, 245, 4, 246, 13, 18, 1, 109, 6, 90, 3, 23, 316, 16, 5, 17, 46, 423, 19, 4, 8, 3, 1, 109, 41, 375, 498, 105, 1, 13, 1, 1048, 2, 21, 1, 47, 3, 1, 749, 13, 1, 133, 10, 5, 39, 131, 19, 102, 11, 31, 2, 359, 7, 18], [2, 7, 9, 17, 44, 1355, 469, 8, 121, 168, 5, 41, 48, 28, 9, 163, 106, 1356, 43, 2, 214, 14, 47, 117, 64, 2, 38, 16, 987, 1355, 47, 6, 51, 197, 3, 1950, 62, 5, 2, 15, 459, 11, 14, 5, 5, 6, 4, 53, 524, 11, 31, 3, 1355, 98, 6, 1355, 22, 1315, 137, 95, 2, 342, 8, 5, 159, 64, 30, 2, 320, 5, 333, 17, 113, 3, 1, 381, 576, 2, 459, 11, 13, 82, 2, 538, 75], [2, 52, 7, 9, 12, 106, 1356, 43, 3, 65, 4, 1214, 13, 1902, 30, 328, 8, 179, 11, 3, 639, 7, 25, 8, 222, 576, 3, 113, 333, 214, 14, 5, 1, 47, 6, 51, 70, 1715, 14, 1856, 3, 214, 59, 14, 949, 576, 618, 113, 919, 17, 117, 6, 5, 6, 4, 77, 119, 135, 27, 90, 3, 5, 209, 147, 9, 95, 87, 4, 77, 177, 12, 31, 10, 137, 445, 16, 2, 538, 5, 3, 1159, 235, 1, 187, 47, 6, 456, 451, 62, 9, 1355, 1690, 22], [2, 21, 7, 18, 2, 107, 115, 60, 98, 10, 5, 132, 4, 53, 370, 9, 208, 16, 2, 52, 43, 4, 22, 23, 58, 3, 386, 14, 1, 236, 103, 1324, 12, 133], [36, 266, 510, 3, 742, 164, 2, 52, 1, 199, 95, 8, 192, 224, 1, 86, 283, 35, 90, 2, 424, 32, 60, 98, 184, 9, 103, 238, 49, 462, 535, 584, 710, 871, 37, 300, 4, 199, 95, 55, 26, 40, 150, 370, 10, 19, 148, 2, 21, 20, 2, 118, 18, 5, 43, 12, 4, 846, 37, 81, 12, 102, 2, 21, 20, 1, 1931, 6, 249, 265, 1, 45, 274], [18, 132, 46, 354, 1, 470, 299, 132, 2, 52, 1, 1515, 82, 424, 78, 31, 3, 5, 15, 23, 148, 1, 83, 11, 1, 25, 76, 3, 310, 23, 490, 20, 101, 39, 1097, 11, 5, 55, 1760, 5, 8, 1, 45, 99, 330, 30, 5, 15, 176, 8, 29, 17, 1167, 18, 7, 441, 8, 280, 5, 55, 29, 176, 63], [7, 18, 6, 1233, 16, 99, 3, 58], [50, 3, 50, 2, 221, 574, 11, 1, 225, 240, 431, 31, 3, 12, 1, 253, 809, 42, 27, 127, 11, 9, 559, 13, 1, 754, 9, 1, 737, 13, 7, 18, 49, 5, 65, 19, 166, 12, 1, 2, 1666, 2, 41, 24, 101, 104, 7, 1, 18, 6, 412, 112, 420, 3, 13, 1, 795, 103, 96, 5, 6, 420, 9, 1, 912, 723, 45, 20, 1591, 1, 1357, 45, 232, 329, 3, 23, 625, 357, 597, 39, 351, 1, 393, 3, 144, 19], [72, 1, 123, 98, 8, 147, 273, 1, 1373, 18, 64, 42, 124, 1154, 421, 1, 109, 875, 67, 17, 27, 1396, 580, 849, 913, 3, 1, 98, 26, 23, 182, 1, 190, 3, 15, 304, 182, 17, 609, 657, 16, 2, 41, 280, 33, 838, 119, 67, 1, 492, 27, 23, 99, 3, 5, 118, 356, 29, 35, 67, 36, 460, 3, 5, 365, 8, 39, 455, 17, 627], [7, 6, 4, 70, 1103, 12, 989, 2, 28, 20, 1, 86, 1, 393, 16, 5, 6, 1716, 149, 12, 786, 1, 22, 46, 26, 31, 59, 2, 38, 107, 4, 22, 160, 154, 14, 4, 46, 208, 9, 17, 799, 5, 132, 46, 3, 442, 14, 343, 55, 155, 24, 8, 22, 43, 10, 265, 746, 1, 94, 55, 29, 35, 119, 1, 360, 14, 7, 18, 6, 1, 96, 1, 1160, 27, 1126, 1, 530, 465, 45, 11, 1, 25, 476, 13, 109, 91, 1304, 9, 1, 785], [2, 397, 57, 62, 13, 1, 1026, 3, 195, 85, 8, 26, 16, 1604, 10, 2, 118, 711, 431, 2, 324, 85, 11, 20, 42, 507, 57, 27, 12, 60, 1316, 362, 2, 38, 50, 523, 43, 3, 81, 1, 94, 15, 116, 35, 46, 12, 17, 174, 186, 3, 101, 49, 2, 326, 43, 2, 118, 711, 42, 41, 125, 29, 148, 9, 1, 94, 3, 35, 543, 9, 1, 234, 12, 31, 20, 320, 42, 27, 51, 70, 1245, 658, 28, 45, 99, 47, 59, 112, 2, 664, 42, 192, 439, 23, 288], [83, 3, 47, 6, 70, 1, 621, 1104, 6, 23, 79, 2, 38, 603, 844, 3, 1, 86, 417, 31, 127, 351, 17, 568, 14, 4, 621, 1104, 1, 22, 13, 17, 94, 3, 387, 336, 351, 17, 568, 3, 156, 915, 8, 192, 31, 2, 100, 40, 66, 803, 20, 5, 6, 19, 4, 58, 48, 49, 40, 27, 44, 503, 933, 868, 37, 758, 7, 255, 48, 111, 11, 40], [397, 4, 879, 11, 7, 220, 3, 16, 315, 2, 131, 2, 283, 1007, 110, 167, 1, 220, 6, 11, 1, 153, 2, 564, 5, 140, 113, 3, 5, 562, 150, 1488, 3, 900, 6, 167, 2, 41, 1857, 5, 59, 78, 34, 551, 6, 54, 32, 872, 9, 37, 62, 229, 147, 666], [4, 58, 128, 482, 380, 55, 102, 59, 12, 607, 515, 478, 3, 55, 48, 111, 14, 92, 37, 4, 1257, 682, 2, 38, 510, 110, 708, 3, 1, 46, 78, 34], [2, 21, 1, 48, 3, 145, 13, 7, 1931, 18, 2, 15, 185, 12, 295, 244, 10, 19, 151, 1, 25, 12, 448, 36, 46, 833, 3, 1, 25, 13, 7, 18, 6, 625, 357, 12, 4, 58, 48, 426, 2, 1, 1931, 5, 15, 54, 2, 52, 60, 1076, 86, 15, 54, 35]]\n"
          ]
        }
      ]
    },
    {
      "cell_type": "code",
      "metadata": {
        "id": "za73M5SRtbrP",
        "colab": {
          "base_uri": "https://localhost:8080/"
        },
        "outputId": "bca2d16b-31c5-46bf-9b86-4617f78e1108"
      },
      "source": [
        "# Alumno: Determinar cual es la oración más larga\n",
        "max(len(s) for s in secuencias_keras)"
      ],
      "execution_count": 20,
      "outputs": [
        {
          "output_type": "execute_result",
          "data": {
            "text/plain": [
              "115"
            ]
          },
          "metadata": {},
          "execution_count": 20
        }
      ]
    },
    {
      "cell_type": "code",
      "metadata": {
        "id": "oCkO9Wc9tls1"
      },
      "source": [
        "# Alumno: Realizar padding de las sentencias al mismo tamaño\n",
        "# tomando de referencia la máxima sentencia\n",
        "from keras_preprocessing.sequence import pad_sequences\n",
        "maxlen = 115\n",
        "X=pad_sequences(secuencias_keras,padding='pre',maxlen=maxlen)"
      ],
      "execution_count": 21,
      "outputs": []
    },
    {
      "cell_type": "code",
      "metadata": {
        "id": "kGHHabVdt_aa"
      },
      "source": [
        "# Alumno: Observar las dimensiones de la variable input"
      ],
      "execution_count": 22,
      "outputs": []
    },
    {
      "cell_type": "code",
      "source": [
        "X.shape"
      ],
      "metadata": {
        "colab": {
          "base_uri": "https://localhost:8080/"
        },
        "id": "_PXXFhn1h61V",
        "outputId": "6ef94251-44e5-4adb-8e2c-58b34b0d1994"
      },
      "execution_count": 23,
      "outputs": [
        {
          "output_type": "execute_result",
          "data": {
            "text/plain": [
              "(23486, 115)"
            ]
          },
          "metadata": {},
          "execution_count": 23
        }
      ]
    },
    {
      "cell_type": "code",
      "metadata": {
        "id": "llVM-tzQo9_F"
      },
      "source": [
        "# Alumno tomar la columna rating y alcemacenarla en una variable \"y\" transformada a oneHotEncoding\n",
        "# Su shape debe ser equivalente la cantidad de rows del corpus y a la cantidad\n",
        "# de clases que se deseen predecir (en este ejemplo son 5)\n",
        "y_OHE=pd.get_dummies(df['Rating'],prefix='Rating')\n",
        "Y=y_OHE.to_numpy()"
      ],
      "execution_count": 24,
      "outputs": []
    },
    {
      "cell_type": "code",
      "metadata": {
        "id": "Rmz9A6n4uK4V"
      },
      "source": [
        "# Alumno: Dividir los datos en train y test\n",
        "from sklearn.model_selection import train_test_split\n",
        "porcentaje_test=0.2\n",
        "X_Train, X_Test, Y_Train, Y_Test=train_test_split(X,Y, test_size=porcentaje_test,random_state=42)"
      ],
      "execution_count": 25,
      "outputs": []
    },
    {
      "cell_type": "code",
      "metadata": {
        "id": "EcDPlhEouQ9E",
        "colab": {
          "base_uri": "https://localhost:8080/"
        },
        "outputId": "3335e4dc-eaf3-4a09-e3f9-e72b3de5a294"
      },
      "source": [
        "# Alumno: determinar la dimensiones de entrada y salida\n",
        "in_shape=X_Train.shape[1]\n",
        "out_shape=5 #Teniendo en cuenta que tenemos 5 clases.\n",
        "print(\"in_shape\", in_shape, \", out_shape\", out_shape)"
      ],
      "execution_count": 26,
      "outputs": [
        {
          "output_type": "stream",
          "name": "stdout",
          "text": [
            "in_shape 115 , out_shape 5\n"
          ]
        }
      ]
    },
    {
      "cell_type": "markdown",
      "metadata": {
        "id": "NpbQHExL6OTu"
      },
      "source": [
        "### 2 - Entrenar el modelo con Embeddings + LSTM"
      ]
    },
    {
      "cell_type": "code",
      "metadata": {
        "id": "NUkuWBsM6cx3",
        "colab": {
          "base_uri": "https://localhost:8080/"
        },
        "outputId": "54be9852-6334-4a3c-fac8-921a136311d2"
      },
      "source": [
        "# Alumno: Entrene su modelo con LSTM entrenando sus propios embeddings\n",
        "# o utilizando embeddings pre-entrenados.\n",
        "from keras.layers import LSTM\n",
        "from keras.layers import Embedding\n",
        "from keras.layers import Dropout\n",
        "\n",
        "model=Sequential()\n",
        "\n",
        "model.add(Embedding(input_dim=vocab_size+1, output_dim=50,input_length=in_shape))\n",
        "model.add(LSTM(units=64, return_sequences=True))\n",
        "model.add(Dropout(0.2))\n",
        "model.add(LSTM(units=64))\n",
        "\n",
        "model.add(Dense(units=128,activation='relu'))\n",
        "model.add(Dropout(rate=0.2))\n",
        "model.add(Dense(units=out_shape,activation='sigmoid'))\n",
        "\n",
        "model.compile(optimizer=\"adam\",\n",
        "              loss='binary_crossentropy',\n",
        "              metrics=['accuracy'])\n",
        "\n",
        "model.summary()"
      ],
      "execution_count": 27,
      "outputs": [
        {
          "output_type": "stream",
          "name": "stdout",
          "text": [
            "Model: \"sequential\"\n",
            "_________________________________________________________________\n",
            " Layer (type)                Output Shape              Param #   \n",
            "=================================================================\n",
            " embedding (Embedding)       (None, 115, 50)           100050    \n",
            "                                                                 \n",
            " lstm (LSTM)                 (None, 115, 64)           29440     \n",
            "                                                                 \n",
            " dropout (Dropout)           (None, 115, 64)           0         \n",
            "                                                                 \n",
            " lstm_1 (LSTM)               (None, 64)                33024     \n",
            "                                                                 \n",
            " dense (Dense)               (None, 128)               8320      \n",
            "                                                                 \n",
            " dropout_1 (Dropout)         (None, 128)               0         \n",
            "                                                                 \n",
            " dense_1 (Dense)             (None, 5)                 645       \n",
            "                                                                 \n",
            "=================================================================\n",
            "Total params: 171,479\n",
            "Trainable params: 171,479\n",
            "Non-trainable params: 0\n",
            "_________________________________________________________________\n"
          ]
        }
      ]
    },
    {
      "cell_type": "code",
      "source": [
        "from keras.utils.vis_utils import plot_model\n",
        "plot_model(model,to_file='ploteamos_el_modelo.png',show_shapes=True, show_layer_names=True)"
      ],
      "metadata": {
        "colab": {
          "base_uri": "https://localhost:8080/",
          "height": 865
        },
        "id": "gN1LQNZf2CYm",
        "outputId": "5c174c2c-4e63-4d73-f683-77529df2363d"
      },
      "execution_count": 28,
      "outputs": [
        {
          "output_type": "execute_result",
          "data": {
            "image/png": "[encoded data removed]",
            "text/plain": [
              "<IPython.core.display.Image object>"
            ]
          },
          "metadata": {},
          "execution_count": 28
        }
      ]
    },
    {
      "cell_type": "code",
      "source": [
        "hist=model.fit(X_Train,Y_Train,epochs=50, validation_split=porcentaje_test)"
      ],
      "metadata": {
        "colab": {
          "base_uri": "https://localhost:8080/"
        },
        "id": "7tRFtR2m2cWz",
        "outputId": "fd56b8b8-03ef-4d05-ef08-b60c5ed8743f"
      },
      "execution_count": 29,
      "outputs": [
        {
          "output_type": "stream",
          "name": "stdout",
          "text": [
            "Epoch 1/50\n",
            "470/470 [==============================] - 15s 15ms/step - loss: 0.4022 - accuracy: 0.5613 - val_loss: 0.3520 - val_accuracy: 0.5828\n",
            "Epoch 2/50\n",
            "470/470 [==============================] - 6s 13ms/step - loss: 0.3248 - accuracy: 0.6088 - val_loss: 0.3171 - val_accuracy: 0.6102\n",
            "Epoch 3/50\n",
            "470/470 [==============================] - 6s 14ms/step - loss: 0.2971 - accuracy: 0.6408 - val_loss: 0.3108 - val_accuracy: 0.6213\n",
            "Epoch 4/50\n",
            "470/470 [==============================] - 6s 13ms/step - loss: 0.2830 - accuracy: 0.6584 - val_loss: 0.3063 - val_accuracy: 0.6293\n",
            "Epoch 5/50\n",
            "470/470 [==============================] - 6s 14ms/step - loss: 0.2706 - accuracy: 0.6697 - val_loss: 0.3090 - val_accuracy: 0.6229\n",
            "Epoch 6/50\n",
            "470/470 [==============================] - 6s 14ms/step - loss: 0.2584 - accuracy: 0.6888 - val_loss: 0.3091 - val_accuracy: 0.6285\n",
            "Epoch 7/50\n",
            "470/470 [==============================] - 8s 16ms/step - loss: 0.2493 - accuracy: 0.7040 - val_loss: 0.3130 - val_accuracy: 0.6096\n",
            "Epoch 8/50\n",
            "470/470 [==============================] - 6s 14ms/step - loss: 0.2398 - accuracy: 0.7180 - val_loss: 0.3188 - val_accuracy: 0.6086\n",
            "Epoch 9/50\n",
            "470/470 [==============================] - 6s 14ms/step - loss: 0.2289 - accuracy: 0.7373 - val_loss: 0.3284 - val_accuracy: 0.6086\n",
            "Epoch 10/50\n",
            "470/470 [==============================] - 6s 14ms/step - loss: 0.2212 - accuracy: 0.7472 - val_loss: 0.3508 - val_accuracy: 0.5867\n",
            "Epoch 11/50\n",
            "470/470 [==============================] - 6s 14ms/step - loss: 0.2127 - accuracy: 0.7583 - val_loss: 0.3430 - val_accuracy: 0.6046\n",
            "Epoch 12/50\n",
            "470/470 [==============================] - 6s 14ms/step - loss: 0.2039 - accuracy: 0.7749 - val_loss: 0.3555 - val_accuracy: 0.5995\n",
            "Epoch 13/50\n",
            "470/470 [==============================] - 6s 14ms/step - loss: 0.1953 - accuracy: 0.7900 - val_loss: 0.3761 - val_accuracy: 0.6014\n",
            "Epoch 14/50\n",
            "470/470 [==============================] - 7s 15ms/step - loss: 0.1861 - accuracy: 0.8027 - val_loss: 0.3770 - val_accuracy: 0.6078\n",
            "Epoch 15/50\n",
            "470/470 [==============================] - 6s 14ms/step - loss: 0.1853 - accuracy: 0.8033 - val_loss: 0.3863 - val_accuracy: 0.6059\n",
            "Epoch 16/50\n",
            "470/470 [==============================] - 6s 14ms/step - loss: 0.1703 - accuracy: 0.8265 - val_loss: 0.4204 - val_accuracy: 0.5990\n",
            "Epoch 17/50\n",
            "470/470 [==============================] - 6s 14ms/step - loss: 0.1648 - accuracy: 0.8285 - val_loss: 0.4310 - val_accuracy: 0.5788\n",
            "Epoch 18/50\n",
            "470/470 [==============================] - 6s 14ms/step - loss: 0.1574 - accuracy: 0.8411 - val_loss: 0.4242 - val_accuracy: 0.5913\n",
            "Epoch 19/50\n",
            "470/470 [==============================] - 6s 14ms/step - loss: 0.1495 - accuracy: 0.8509 - val_loss: 0.4746 - val_accuracy: 0.5971\n",
            "Epoch 20/50\n",
            "470/470 [==============================] - 6s 14ms/step - loss: 0.1438 - accuracy: 0.8585 - val_loss: 0.4824 - val_accuracy: 0.5905\n",
            "Epoch 21/50\n",
            "470/470 [==============================] - 6s 14ms/step - loss: 0.1366 - accuracy: 0.8662 - val_loss: 0.4910 - val_accuracy: 0.5859\n",
            "Epoch 22/50\n",
            "470/470 [==============================] - 6s 14ms/step - loss: 0.1389 - accuracy: 0.8669 - val_loss: 0.4795 - val_accuracy: 0.5894\n",
            "Epoch 23/50\n",
            "470/470 [==============================] - 6s 14ms/step - loss: 0.1274 - accuracy: 0.8797 - val_loss: 0.4917 - val_accuracy: 0.5918\n",
            "Epoch 24/50\n",
            "470/470 [==============================] - 6s 14ms/step - loss: 0.1244 - accuracy: 0.8844 - val_loss: 0.5296 - val_accuracy: 0.5902\n",
            "Epoch 25/50\n",
            "470/470 [==============================] - 7s 14ms/step - loss: 0.1227 - accuracy: 0.8861 - val_loss: 0.5200 - val_accuracy: 0.5878\n",
            "Epoch 26/50\n",
            "470/470 [==============================] - 7s 14ms/step - loss: 0.1142 - accuracy: 0.8948 - val_loss: 0.5703 - val_accuracy: 0.5809\n",
            "Epoch 27/50\n",
            "470/470 [==============================] - 7s 14ms/step - loss: 0.1140 - accuracy: 0.8965 - val_loss: 0.5411 - val_accuracy: 0.5947\n",
            "Epoch 28/50\n",
            "470/470 [==============================] - 6s 14ms/step - loss: 0.1102 - accuracy: 0.8987 - val_loss: 0.5475 - val_accuracy: 0.5681\n",
            "Epoch 29/50\n",
            "470/470 [==============================] - 7s 15ms/step - loss: 0.1096 - accuracy: 0.9021 - val_loss: 0.5770 - val_accuracy: 0.5809\n",
            "Epoch 30/50\n",
            "470/470 [==============================] - 6s 14ms/step - loss: 0.1010 - accuracy: 0.9109 - val_loss: 0.6262 - val_accuracy: 0.5649\n",
            "Epoch 31/50\n",
            "470/470 [==============================] - 6s 14ms/step - loss: 0.0947 - accuracy: 0.9172 - val_loss: 0.6070 - val_accuracy: 0.5862\n",
            "Epoch 32/50\n",
            "470/470 [==============================] - 6s 14ms/step - loss: 0.0910 - accuracy: 0.9181 - val_loss: 0.6330 - val_accuracy: 0.5633\n",
            "Epoch 33/50\n",
            "470/470 [==============================] - 6s 14ms/step - loss: 0.0876 - accuracy: 0.9222 - val_loss: 0.6512 - val_accuracy: 0.5756\n",
            "Epoch 34/50\n",
            "470/470 [==============================] - 6s 14ms/step - loss: 0.0861 - accuracy: 0.9261 - val_loss: 0.6591 - val_accuracy: 0.5859\n",
            "Epoch 35/50\n",
            "470/470 [==============================] - 6s 14ms/step - loss: 0.0795 - accuracy: 0.9315 - val_loss: 0.7120 - val_accuracy: 0.5809\n",
            "Epoch 36/50\n",
            "470/470 [==============================] - 6s 14ms/step - loss: 0.0812 - accuracy: 0.9280 - val_loss: 0.7162 - val_accuracy: 0.5758\n",
            "Epoch 37/50\n",
            "470/470 [==============================] - 6s 14ms/step - loss: 0.0795 - accuracy: 0.9328 - val_loss: 0.6690 - val_accuracy: 0.5772\n",
            "Epoch 38/50\n",
            "470/470 [==============================] - 7s 14ms/step - loss: 0.0718 - accuracy: 0.9367 - val_loss: 0.7196 - val_accuracy: 0.5788\n",
            "Epoch 39/50\n",
            "470/470 [==============================] - 7s 14ms/step - loss: 0.0686 - accuracy: 0.9417 - val_loss: 0.7704 - val_accuracy: 0.5921\n",
            "Epoch 40/50\n",
            "470/470 [==============================] - 6s 14ms/step - loss: 0.0664 - accuracy: 0.9425 - val_loss: 0.7341 - val_accuracy: 0.5689\n",
            "Epoch 41/50\n",
            "470/470 [==============================] - 6s 14ms/step - loss: 0.0653 - accuracy: 0.9427 - val_loss: 0.7375 - val_accuracy: 0.5676\n",
            "Epoch 42/50\n",
            "470/470 [==============================] - 6s 14ms/step - loss: 0.0661 - accuracy: 0.9438 - val_loss: 0.7700 - val_accuracy: 0.5623\n",
            "Epoch 43/50\n",
            "470/470 [==============================] - 7s 14ms/step - loss: 0.0602 - accuracy: 0.9484 - val_loss: 0.8275 - val_accuracy: 0.5857\n",
            "Epoch 44/50\n",
            "470/470 [==============================] - 7s 15ms/step - loss: 0.0606 - accuracy: 0.9478 - val_loss: 0.8555 - val_accuracy: 0.5585\n",
            "Epoch 45/50\n",
            "470/470 [==============================] - 7s 14ms/step - loss: 0.0546 - accuracy: 0.9526 - val_loss: 0.8663 - val_accuracy: 0.5697\n",
            "Epoch 46/50\n",
            "470/470 [==============================] - 6s 14ms/step - loss: 0.0518 - accuracy: 0.9543 - val_loss: 0.8924 - val_accuracy: 0.5782\n",
            "Epoch 47/50\n",
            "470/470 [==============================] - 6s 14ms/step - loss: 0.0575 - accuracy: 0.9500 - val_loss: 0.7963 - val_accuracy: 0.5710\n",
            "Epoch 48/50\n",
            "470/470 [==============================] - 6s 14ms/step - loss: 0.0512 - accuracy: 0.9531 - val_loss: 0.8856 - val_accuracy: 0.5676\n",
            "Epoch 49/50\n",
            "470/470 [==============================] - 6s 14ms/step - loss: 0.0565 - accuracy: 0.9516 - val_loss: 0.8769 - val_accuracy: 0.5588\n",
            "Epoch 50/50\n",
            "470/470 [==============================] - 7s 14ms/step - loss: 0.0491 - accuracy: 0.9566 - val_loss: 0.8916 - val_accuracy: 0.5663\n"
          ]
        }
      ]
    },
    {
      "cell_type": "code",
      "source": [
        "import matplotlib.pyplot as plt\n",
        "import seaborn as sns\n",
        "epoch_count=range(1,len(hist.history['accuracy'])+1)\n",
        "sns.lineplot(x=epoch_count, y=hist.history['accuracy'],label='train')\n",
        "sns.lineplot(x=epoch_count, y=hist.history['val_accuracy'],label='valid')\n",
        "plt.show()"
      ],
      "metadata": {
        "id": "4wDWiN4I2v1m",
        "colab": {
          "base_uri": "https://localhost:8080/",
          "height": 265
        },
        "outputId": "2d435706-9c4a-4e1e-8e9e-b773216d4467"
      },
      "execution_count": 30,
      "outputs": [
        {
          "output_type": "display_data",
          "data": {
            "text/plain": [
              "<Figure size 432x288 with 1 Axes>"
            ],
            "image/png": "[encoded data removed]"
          },
          "metadata": {
            "needs_background": "light"
          }
        }
      ]
    },
    {
      "cell_type": "code",
      "source": [
        "model.evaluate(X_Test, Y_Test)"
      ],
      "metadata": {
        "colab": {
          "base_uri": "https://localhost:8080/"
        },
        "id": "7ACay6p45Job",
        "outputId": "ac5c9b0a-ca85-442c-d9ab-9173c086f888"
      },
      "execution_count": 31,
      "outputs": [
        {
          "output_type": "stream",
          "name": "stdout",
          "text": [
            "147/147 [==============================] - 1s 6ms/step - loss: 0.9061 - accuracy: 0.5658\n"
          ]
        },
        {
          "output_type": "execute_result",
          "data": {
            "text/plain": [
              "[0.9060775637626648, 0.5657726526260376]"
            ]
          },
          "metadata": {},
          "execution_count": 31
        }
      ]
    },
    {
      "cell_type": "code",
      "source": [
        "modelo_emb=model.predict(X_Test)"
      ],
      "metadata": {
        "id": "btMY_X09SdJ_",
        "colab": {
          "base_uri": "https://localhost:8080/"
        },
        "outputId": "2fbeec78-44e6-4e88-970a-07985024ee35"
      },
      "execution_count": 32,
      "outputs": [
        {
          "output_type": "stream",
          "name": "stdout",
          "text": [
            "147/147 [==============================] - 2s 5ms/step\n"
          ]
        }
      ]
    },
    {
      "cell_type": "code",
      "source": [
        "modelo_emb"
      ],
      "metadata": {
        "colab": {
          "base_uri": "https://localhost:8080/"
        },
        "id": "Jd_WKpA-opAw",
        "outputId": "ba6f3e9a-5bc6-49d3-b15c-15a7ddad913c"
      },
      "execution_count": 33,
      "outputs": [
        {
          "output_type": "execute_result",
          "data": {
            "text/plain": [
              "array([[5.9844937e-05, 7.1313884e-04, 1.9459816e-03, 9.8681009e-01,\n",
              "        1.0347584e-02],\n",
              "       [2.2120096e-07, 6.2642157e-06, 9.3784338e-06, 1.3254490e-03,\n",
              "        9.9892116e-01],\n",
              "       [1.2693501e-02, 9.4976526e-01, 8.4266644e-03, 4.4935415e-03,\n",
              "        1.9741407e-02],\n",
              "       ...,\n",
              "       [3.5186655e-05, 5.2245118e-02, 8.0927414e-01, 1.6243610e-04,\n",
              "        1.0706897e-02],\n",
              "       [9.0624724e-07, 3.3520631e-04, 9.6311764e-05, 9.9931574e-01,\n",
              "        3.0619200e-04],\n",
              "       [1.1402133e-09, 4.0540755e-08, 4.5928797e-08, 5.7860063e-05,\n",
              "        9.9995315e-01]], dtype=float32)"
            ]
          },
          "metadata": {},
          "execution_count": 33
        }
      ]
    },
    {
      "cell_type": "code",
      "source": [
        "np.min(modelo_emb)"
      ],
      "metadata": {
        "colab": {
          "base_uri": "https://localhost:8080/"
        },
        "id": "_WIyqo1to1gE",
        "outputId": "441a128b-be11-4d22-8753-ff3128ba9bae"
      },
      "execution_count": 34,
      "outputs": [
        {
          "output_type": "execute_result",
          "data": {
            "text/plain": [
              "7.969074e-13"
            ]
          },
          "metadata": {},
          "execution_count": 34
        }
      ]
    },
    {
      "cell_type": "code",
      "source": [
        "print(X_Test.shape)"
      ],
      "metadata": {
        "colab": {
          "base_uri": "https://localhost:8080/"
        },
        "id": "v3O-QaK3pUlb",
        "outputId": "89f75b10-bcc7-441d-c0ea-6d1e4c739816"
      },
      "execution_count": 35,
      "outputs": [
        {
          "output_type": "stream",
          "name": "stdout",
          "text": [
            "(4698, 115)\n"
          ]
        }
      ]
    },
    {
      "cell_type": "markdown",
      "source": [
        "Es importante tener en cuenta que la variable modelo_emb me representa la probabilidad de que un comentario I (que hace parte del dataset de test), tenga una valoración corresponiente a cada una de nuestras 5 clases."
      ],
      "metadata": {
        "id": "uWUJRV_qy10e"
      }
    },
    {
      "cell_type": "code",
      "source": [
        "modelo_emb[:10]"
      ],
      "metadata": {
        "colab": {
          "base_uri": "https://localhost:8080/"
        },
        "id": "CMKMl3OjzOG8",
        "outputId": "9a984f09-1822-416d-a07c-a0e18692169a"
      },
      "execution_count": 36,
      "outputs": [
        {
          "output_type": "execute_result",
          "data": {
            "text/plain": [
              "array([[5.9844937e-05, 7.1313884e-04, 1.9459816e-03, 9.8681009e-01,\n",
              "        1.0347584e-02],\n",
              "       [2.2120096e-07, 6.2642157e-06, 9.3784338e-06, 1.3254490e-03,\n",
              "        9.9892116e-01],\n",
              "       [1.2693501e-02, 9.4976526e-01, 8.4266644e-03, 4.4935415e-03,\n",
              "        1.9741407e-02],\n",
              "       [7.9423118e-01, 3.4013122e-02, 6.8992406e-02, 4.8898723e-02,\n",
              "        3.9873637e-02],\n",
              "       [2.3189704e-08, 1.8737435e-07, 4.2139968e-07, 9.6279997e-05,\n",
              "        9.9991560e-01],\n",
              "       [1.1106504e-06, 2.0760446e-05, 1.4823399e-04, 9.3879598e-01,\n",
              "        5.6247342e-02],\n",
              "       [1.2292162e-03, 2.0471103e-02, 4.0270604e-02, 9.1068846e-01,\n",
              "        2.6662344e-02],\n",
              "       [3.0043668e-06, 1.2049485e-03, 1.8720012e-04, 9.6732652e-01,\n",
              "        2.5672294e-02],\n",
              "       [7.2195938e-08, 4.0710188e-07, 3.4694946e-07, 4.5836577e-04,\n",
              "        9.9969912e-01],\n",
              "       [2.0150926e-02, 1.6147934e-02, 5.9868649e-02, 2.5193897e-01,\n",
              "        6.4869684e-01]], dtype=float32)"
            ]
          },
          "metadata": {},
          "execution_count": 36
        }
      ]
    }
  ]
}