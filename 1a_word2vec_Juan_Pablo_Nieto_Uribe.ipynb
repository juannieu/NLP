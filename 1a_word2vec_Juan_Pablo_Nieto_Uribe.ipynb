{
  "nbformat": 4,
  "nbformat_minor": 0,
  "metadata": {
    "colab": {
      "provenance": [],
      "collapsed_sections": []
    },
    "kernelspec": {
      "name": "python3",
      "display_name": "Python 3"
    },
    "language_info": {
      "name": "python"
    }
  },
  "cells": [
    {
      "cell_type": "markdown",
      "metadata": {
        "id": "Ue5hxxkdAQJg"
      },
      "source": [
        "<img src=\"https://github.com/FIUBA-Posgrado-Inteligencia-Artificial/procesamiento_lenguaje_natural/raw/main/logoFIUBA.jpg\" width=\"500\" align=\"center\">\n",
        "\n",
        "\n",
        "# Procesamiento de lenguaje natural\n",
        "## Word2vect\n"
      ]
    },
    {
      "cell_type": "markdown",
      "source": [
        "TP1: Vectorización de texto.\n",
        "\n",
        "Juan Pablo Nieto Uribe\n",
        "\n",
        "juanpablonietou@gmail.com"
      ],
      "metadata": {
        "id": "Hnnb4sFTZvVs"
      }
    },
    {
      "cell_type": "code",
      "metadata": {
        "id": "kCED1hh-Ioyf"
      },
      "source": [
        "import numpy as np"
      ],
      "execution_count": null,
      "outputs": []
    },
    {
      "cell_type": "code",
      "metadata": {
        "id": "PUbfVnzIIoMj"
      },
      "source": [
        "def cosine_similarity(a, b):\n",
        "    return np.dot(a, b) / (np.linalg.norm(a) * (np.linalg.norm(b)))"
      ],
      "execution_count": null,
      "outputs": []
    },
    {
      "cell_type": "markdown",
      "metadata": {
        "id": "DMOa4JPSCJ29"
      },
      "source": [
        "### Datos"
      ]
    },
    {
      "cell_type": "code",
      "metadata": {
        "id": "RIO7b8GjAC17"
      },
      "source": [
        "corpus = np.array(['que dia es hoy', 'martes el dia de hoy es martes', 'martes muchas gracias'])"
      ],
      "execution_count": null,
      "outputs": []
    },
    {
      "cell_type": "markdown",
      "metadata": {
        "id": "8WqdaTmO8P1r"
      },
      "source": [
        "Documento 1 --> que dia es hoy \\\n",
        "Documento 2 --> martes el dia de hoy es martes \\\n",
        "Documento 3 --> martes muchas gracias"
      ]
    },
    {
      "cell_type": "markdown",
      "metadata": {
        "id": "FVHxBRNzCMOS"
      },
      "source": [
        "### 1 - Obtener el vocabulario del corpus (los términos utilizados)\n",
        "- Cada documento transformarlo en una lista de términos\n",
        "- Armar un vector de términos no repetidos de todos los documentos"
      ]
    },
    {
      "cell_type": "code",
      "metadata": {
        "id": "3ZqTOZzDI7uv",
        "colab": {
          "base_uri": "https://localhost:8080/"
        },
        "outputId": "789537e9-3a45-45a7-f695-3b24d10250c3"
      },
      "source": [
        "def constructor_LdT():\n",
        "  contador_doc=0\n",
        "  resp=[]\n",
        "  resp_temp=[]\n",
        "  for doc in corpus:\n",
        "    contador_doc+=1\n",
        "    resp_temp=[]\n",
        "    for word in doc.split():\n",
        "      resp_temp.append(word)\n",
        "    resp.append(resp_temp)\n",
        "  return resp\n",
        "\n",
        "bow=constructor_LdT()\n",
        "print(bow)"
      ],
      "execution_count": null,
      "outputs": [
        {
          "output_type": "stream",
          "name": "stdout",
          "text": [
            "[['que', 'dia', 'es', 'hoy'], ['martes', 'el', 'dia', 'de', 'hoy', 'es', 'martes'], ['martes', 'muchas', 'gracias']]\n"
          ]
        }
      ]
    },
    {
      "cell_type": "code",
      "metadata": {
        "id": "Os0AAQo6I6Z1",
        "colab": {
          "base_uri": "https://localhost:8080/"
        },
        "outputId": "25caa785-6ca0-42d1-b9df-99bdbdd988a8"
      },
      "source": [
        "#Dadas las listas que generamos anteriormente, las mezclamos para eliminar los elementos repetidos\n",
        "lista_merged=bow[0]+bow[1]+bow[2]\n",
        "lista_unicos=np.unique(lista_merged)\n",
        "print('--------El vector de términos no repetidos es--------------------')\n",
        "print(lista_unicos)\n",
        "print('-----------------------------------------------------------------')"
      ],
      "execution_count": null,
      "outputs": [
        {
          "output_type": "stream",
          "name": "stdout",
          "text": [
            "--------El vector de términos no repetidos es--------------------\n",
            "['de' 'dia' 'el' 'es' 'gracias' 'hoy' 'martes' 'muchas' 'que']\n",
            "-----------------------------------------------------------------\n"
          ]
        }
      ]
    },
    {
      "cell_type": "markdown",
      "metadata": {
        "id": "RUhH983FI7It"
      },
      "source": [
        "### 2- OneHot encoding\n",
        "Dada una lista de textos, devolver una matriz con la representación oneHotEncoding de estos"
      ]
    },
    {
      "cell_type": "code",
      "source": [
        "#Definimos una matriz en ceros que vamos a poder utilizar en distintos puntos de este desafío.\n",
        "def matrizEnCeros(noRepetidos):\n",
        "  #Comenzamos por obtener la dimensión del vector de términos no repetidos, y el número de textos para crear la matriz\n",
        "  long_no_repetidos=len(lista_unicos)\n",
        "  long_corpus=len(corpus)\n",
        "\n",
        "  #Creamos el array\n",
        "  arr_resp=np.zeros((long_corpus+1,long_no_repetidos),dtype=object)\n",
        "\n",
        "  #Recorremos y agregamos los valores\n",
        "  for x in range(long_no_repetidos):\n",
        "    arr_resp[0,x]=noRepetidos[x]\n",
        "  \n",
        "  return arr_resp"
      ],
      "metadata": {
        "id": "fEnk92zVSE4_"
      },
      "execution_count": null,
      "outputs": []
    },
    {
      "cell_type": "code",
      "source": [
        "arrRespP2=matrizEnCeros(lista_unicos)\n",
        "print(arrRespP2)"
      ],
      "metadata": {
        "colab": {
          "base_uri": "https://localhost:8080/"
        },
        "id": "sKgEmJDQVjHA",
        "outputId": "7c63230a-94e0-415f-b80c-d341be2b0564"
      },
      "execution_count": null,
      "outputs": [
        {
          "output_type": "stream",
          "name": "stdout",
          "text": [
            "[['de' 'dia' 'el' 'es' 'gracias' 'hoy' 'martes' 'muchas' 'que']\n",
            " [0 0 0 0 0 0 0 0 0]\n",
            " [0 0 0 0 0 0 0 0 0]\n",
            " [0 0 0 0 0 0 0 0 0]]\n"
          ]
        }
      ]
    },
    {
      "cell_type": "markdown",
      "source": [
        "Ahora pasamos a crear la lista de One Hot encoding"
      ],
      "metadata": {
        "id": "DM6ARB0hYJA4"
      }
    },
    {
      "cell_type": "code",
      "source": [
        "indice_palabra=0\n",
        "for palabra in lista_unicos:\n",
        "  for linea in range(1,len(corpus)+1):\n",
        "    if palabra in corpus[linea-1]:\n",
        "      arrRespP2[linea,indice_palabra]=1\n",
        "  indice_palabra+=1"
      ],
      "metadata": {
        "id": "G1p7wsFFYQ3D"
      },
      "execution_count": null,
      "outputs": []
    },
    {
      "cell_type": "code",
      "source": [
        "print(arrRespP2)"
      ],
      "metadata": {
        "colab": {
          "base_uri": "https://localhost:8080/"
        },
        "id": "32VsAfIbaYr1",
        "outputId": "3ea5b04e-a3ab-4005-db52-4960e851f6f8"
      },
      "execution_count": null,
      "outputs": [
        {
          "output_type": "stream",
          "name": "stdout",
          "text": [
            "[['de' 'dia' 'el' 'es' 'gracias' 'hoy' 'martes' 'muchas' 'que']\n",
            " [0 1 0 1 0 1 0 0 1]\n",
            " [1 1 1 1 0 1 1 0 0]\n",
            " [0 0 0 1 1 0 1 1 0]]\n"
          ]
        }
      ]
    },
    {
      "cell_type": "markdown",
      "metadata": {
        "id": "IIyWGmCpJVQL"
      },
      "source": [
        "### 3- Vectores de frecuencia\n",
        "Data una lista de textos, devolver una matriz con la representación de frecuencia de estos"
      ]
    },
    {
      "cell_type": "code",
      "metadata": {
        "id": "yqij_7eHJbUi",
        "colab": {
          "base_uri": "https://localhost:8080/"
        },
        "outputId": "7edc34b5-e1f3-4505-ed8f-a075f95e87da"
      },
      "source": [
        "#Partiendo de una de las matrices que creamos en el punto anterior\n",
        "arrRespP3=matrizEnCeros(lista_unicos)\n",
        "print(arrRespP3)"
      ],
      "execution_count": null,
      "outputs": [
        {
          "output_type": "stream",
          "name": "stdout",
          "text": [
            "[['de' 'dia' 'el' 'es' 'gracias' 'hoy' 'martes' 'muchas' 'que']\n",
            " [0 0 0 0 0 0 0 0 0]\n",
            " [0 0 0 0 0 0 0 0 0]\n",
            " [0 0 0 0 0 0 0 0 0]]\n"
          ]
        }
      ]
    },
    {
      "cell_type": "code",
      "source": [
        "#Recorremos de una manera parecida a lo que hicimos al punto anterior pero...\n",
        "def punto3(elCorpus):\n",
        "\n",
        "  indice_palabra=0\n",
        "  for palabra in lista_unicos:\n",
        "    for linea in range(0,len(elCorpus)):\n",
        "    #...aquí cambia\n",
        "      #print(indice_palabra,corpus[linea],'fff',palabra,'kkk',corpus[linea].count(palabra))\n",
        "      numero=corpus[linea].count(palabra)\n",
        "      arrRespP3[linea+1,indice_palabra]=numero\n",
        "    \n",
        "    indice_palabra+=1\n",
        "    return arrRespP3\n",
        "arrRespP3T=punto3(corpus)  "
      ],
      "metadata": {
        "id": "DCICZn2xcImP"
      },
      "execution_count": null,
      "outputs": []
    },
    {
      "cell_type": "code",
      "source": [
        "print(arrRespP3T)"
      ],
      "metadata": {
        "colab": {
          "base_uri": "https://localhost:8080/"
        },
        "id": "5r4zTdRQd6bs",
        "outputId": "f47e2da0-a55b-43a0-ec90-ee8bbf4915ec"
      },
      "execution_count": null,
      "outputs": [
        {
          "output_type": "stream",
          "name": "stdout",
          "text": [
            "[['de' 'dia' 'el' 'es' 'gracias' 'hoy' 'martes' 'muchas' 'que']\n",
            " [0 1 0 1 0 1 0 0 1]\n",
            " [1 1 1 3 0 1 2 0 0]\n",
            " [0 0 0 1 1 0 1 1 0]]\n"
          ]
        }
      ]
    },
    {
      "cell_type": "markdown",
      "metadata": {
        "id": "z_Ot8HvWJcBu"
      },
      "source": [
        "### 4- TF-IDF\n",
        "Data una lista de textos, devolver una matriz con la representacion TFIDF"
      ]
    },
    {
      "cell_type": "code",
      "source": [
        "#Partiendo de una de las matrices que nos genera la función matriz en ceros\n",
        "arrRespP4=matrizEnCeros(lista_unicos)\n",
        "print(arrRespP4)"
      ],
      "metadata": {
        "colab": {
          "base_uri": "https://localhost:8080/"
        },
        "id": "p_Ez65cGZO6b",
        "outputId": "d6222a16-d4ae-4226-d9ce-ced985f0cfe9"
      },
      "execution_count": null,
      "outputs": [
        {
          "output_type": "stream",
          "name": "stdout",
          "text": [
            "[['de' 'dia' 'el' 'es' 'gracias' 'hoy' 'martes' 'muchas' 'que']\n",
            " [0 0 0 0 0 0 0 0 0]\n",
            " [0 0 0 0 0 0 0 0 0]\n",
            " [0 0 0 0 0 0 0 0 0]]\n"
          ]
        }
      ]
    },
    {
      "cell_type": "markdown",
      "source": [
        "Teniendo en cuenta que Df será igual a sumar los valores obtenidos en el one hot encoding por columna y que tf es el valor que obtuvimos en el punto 3:"
      ],
      "metadata": {
        "id": "YqZsW9vzcuSX"
      }
    },
    {
      "cell_type": "code",
      "source": [
        "n=len(corpus)\n",
        "valsOHE=[]\n",
        "for valPalabra in range(0,len(lista_unicos)):\n",
        "  valorOHE=0\n",
        "  for val in range(1,len(corpus)+1):\n",
        "    valorOHE=valorOHE+arrRespP2[val,valPalabra]\n",
        "\n",
        "  valorOHEd=np.log10(n/valorOHE)\n",
        "  valsOHE.append(valorOHEd)\n",
        "\n",
        "  for punto3 in range(1,len(corpus)+1):\n",
        "    numAnalizado=arrRespP3T[punto3,valPalabra]\n",
        "    arrRespP4[punto3,valPalabra]=numAnalizado*valsOHE[valPalabra]\n"
      ],
      "metadata": {
        "id": "iSk3GioicuDr"
      },
      "execution_count": null,
      "outputs": []
    },
    {
      "cell_type": "code",
      "source": [
        "print(arrRespP4)"
      ],
      "metadata": {
        "colab": {
          "base_uri": "https://localhost:8080/"
        },
        "id": "sOueKNh7buKL",
        "outputId": "daed4e6a-57f1-4bc5-d93b-13ca69065fca"
      },
      "execution_count": null,
      "outputs": [
        {
          "output_type": "stream",
          "name": "stdout",
          "text": [
            "[['de' 'dia' 'el' 'es' 'gracias' 'hoy' 'martes' 'muchas' 'que']\n",
            " [0.0 0.0 0.0 0.0 0.0 0.0 0.0 0.0 0.0]\n",
            " [0.47712125471966244 0.0 0.0 0.0 0.0 0.0 0.0 0.0 0.0]\n",
            " [0.0 0.0 0.0 0.0 0.0 0.0 0.0 0.0 0.0]]\n"
          ]
        }
      ]
    },
    {
      "cell_type": "markdown",
      "metadata": {
        "id": "xMcsfndWJjm_"
      },
      "source": [
        "### 5 - Comparación de documentos\n",
        "Realizar una funcion que reciba el corpus y el índice de un documento y devuelva los documentos ordenados por la similitud coseno"
      ]
    },
    {
      "cell_type": "code",
      "metadata": {
        "id": "CZdiop6IJpZN"
      },
      "source": [
        "def sorter(arrr):\n",
        "  k=arrr[arrr[:, -1].argsort()]\n",
        "  k2=np.flipud(k)\n",
        "  return k2\n",
        "\n",
        "def simCos(A,B):\n",
        "  arriba=np.sum(np.multiply(A,B))\n",
        "  abajoI=np.sqrt(np.sum(np.multiply(A,A)))\n",
        "  abajoD=np.sqrt(np.sum(np.multiply(B,B)))\n",
        "  abajo=np.multiply(abajoI,abajoD)\n",
        "  return arriba/abajo\n",
        "\n",
        "def simCoseno(elCorpus, indiceDoc):\n",
        "  #inicializamos una matriz con dimensiones len(corpus-1),2 que nos sirva de dimesiones\n",
        "  arrResp=np.zeros((len(elCorpus)-1,2))\n",
        "  i_resp=0\n",
        "  #Partimos del vector de  frecuencia que obtuvimos en el punto 3\n",
        "  vecs=punto3(corpus)\n",
        "  tuplaSec=[]\n",
        "  A=vecs[indiceDoc]\n",
        "  for i in range(1,len(elCorpus)+1):\n",
        "    emb=0\n",
        "    if i==indiceDoc:\n",
        "      pass\n",
        "    else:\n",
        "      B=vecs[i]\n",
        "      emb=simCos(A,B)\n",
        "      #Ponemos los valores calculados en la matriz de respuesta\n",
        "      arrResp[i_resp,0]=i\n",
        "      arrResp[i_resp,1]=emb\n",
        "      #Aumento en 1 el índice de respuesta\n",
        "      i_resp+=1\n",
        "  return sorter(arrResp)\n",
        "\n",
        "  \n",
        "\n",
        "similitudCoseno=simCoseno(corpus,1)\n"
      ],
      "execution_count": null,
      "outputs": []
    },
    {
      "cell_type": "code",
      "source": [
        "print(similitudCoseno)"
      ],
      "metadata": {
        "colab": {
          "base_uri": "https://localhost:8080/"
        },
        "id": "7iB6z-Y-Il1p",
        "outputId": "056e83a1-5e83-4f50-919d-8c3b14dc99c5"
      },
      "execution_count": null,
      "outputs": [
        {
          "output_type": "stream",
          "name": "stdout",
          "text": [
            "[[2.         0.60633906]\n",
            " [3.         0.25      ]]\n"
          ]
        }
      ]
    }
  ]
}