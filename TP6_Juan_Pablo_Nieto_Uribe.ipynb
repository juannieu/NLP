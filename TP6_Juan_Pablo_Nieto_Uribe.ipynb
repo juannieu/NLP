{
  "nbformat": 4,
  "nbformat_minor": 0,
  "metadata": {
    "colab": {
      "provenance": [],
      "collapsed_sections": []
    },
    "kernelspec": {
      "name": "python3",
      "display_name": "Python 3"
    },
    "language_info": {
      "name": "python"
    },
    "accelerator": "GPU"
  },
  "cells": [
    {
      "cell_type": "markdown",
      "metadata": {
        "id": "pfa39F4lsLf3"
      },
      "source": [
        "<img src=\"https://github.com/hernancontigiani/ceia_memorias_especializacion/raw/master/Figures/logoFIUBA.jpg\" width=\"500\" align=\"center\">\n",
        "\n",
        "\n",
        "# Procesamiento de lenguaje natural\n",
        "## LSTM Bot QA"
      ]
    },
    {
      "cell_type": "markdown",
      "source": [
        "Juan Pablo Nieto Uribe\n",
        "\n",
        "juanpablonietou@gmail.com"
      ],
      "metadata": {
        "id": "n8yz_D8yRir6"
      }
    },
    {
      "cell_type": "markdown",
      "metadata": {
        "id": "ZqO0PRcFsPTe"
      },
      "source": [
        "### Datos\n",
        "El objecto es utilizar datos disponibles de convai de conversaciones en ingleś. Se construirá un BOT para responder a preguntas del usuario (QA).\\\n",
        "[LINK](http://convai.io/data/)"
      ]
    },
    {
      "cell_type": "code",
      "source": [
        "!pip install --upgrade --no-cache-dir gdown --quiet"
      ],
      "metadata": {
        "id": "bDFC0I3j9oFD",
        "outputId": "3ca85065-d727-4f6e-b5b8-4ccfefcf27f3",
        "colab": {
          "base_uri": "https://localhost:8080/"
        }
      },
      "execution_count": null,
      "outputs": [
        {
          "output_type": "stream",
          "name": "stdout",
          "text": [
            "  Installing build dependencies ... \u001b[?25l\u001b[?25hdone\n",
            "  Getting requirements to build wheel ... \u001b[?25l\u001b[?25hdone\n",
            "    Preparing wheel metadata ... \u001b[?25l\u001b[?25hdone\n",
            "  Building wheel for gdown (PEP 517) ... \u001b[?25l\u001b[?25hdone\n"
          ]
        }
      ]
    },
    {
      "cell_type": "code",
      "metadata": {
        "id": "cq3YXak9sGHd"
      },
      "source": [
        "import re\n",
        "import numpy as np\n",
        "import pandas as pd\n",
        "import keras\n",
        "from keras.preprocessing.text import one_hot\n",
        "from keras_preprocessing.sequence import pad_sequences\n",
        "from keras.models import Sequential\n",
        "from keras.layers.core import Activation, Dropout, Dense\n",
        "from keras.layers import Flatten, LSTM, SimpleRNN, Dense\n",
        "from keras.models import Model\n",
        "from keras.preprocessing.text import Tokenizer\n",
        "from keras.utils.np_utils import to_categorical\n",
        "import logging\n",
        "from pathlib import Path\n",
        "import pickle\n",
        "from keras.layers import Input\n",
        "from tensorflow.keras.layers import Embedding\n",
        "from sklearn.model_selection import train_test_split\n",
        "from keras.utils.vis_utils import plot_model\n",
        "#from keras.layers.merge import Concatenate\n",
        "from keras.layers import Bidirectional\n",
        "import os\n",
        "import gdown\n",
        "import json\n",
        "import matplotlib.pyplot as plt\n",
        "import seaborn as sns"
      ],
      "execution_count": null,
      "outputs": []
    },
    {
      "cell_type": "code",
      "metadata": {
        "id": "RHNkUaPp6aYq",
        "outputId": "9724a6e4-18d0-4c83-a847-f260044c445b",
        "colab": {
          "base_uri": "https://localhost:8080/"
        }
      },
      "source": [
        "# Descargar la carpeta de dataset\n",
        "import os\n",
        "import gdown\n",
        "if os.access('data_volunteers.json', os.F_OK) is False:\n",
        "    url = 'https://drive.google.com/uc?id=1QPYxMTBSGNmbyGhknznuO3YWLBOJnhUQ&export=download'\n",
        "    output = 'data_volunteers.json'\n",
        "    gdown.download(url, output, quiet=False)\n",
        "else:\n",
        "    print(\"El dataset ya se encuentra descargado\")"
      ],
      "execution_count": null,
      "outputs": [
        {
          "output_type": "stream",
          "name": "stderr",
          "text": [
            "Downloading...\n",
            "From: https://drive.google.com/uc?id=1QPYxMTBSGNmbyGhknznuO3YWLBOJnhUQ&export=download\n",
            "To: /content/data_volunteers.json\n",
            "100%|██████████| 2.58M/2.58M [00:00<00:00, 154MB/s]\n"
          ]
        }
      ]
    },
    {
      "cell_type": "code",
      "metadata": {
        "id": "WZy1-wgG-Rp7"
      },
      "source": [
        "# dataset_file\n",
        "text_file = \"data_volunteers.json\"\n",
        "with open(text_file) as f:\n",
        "    data = json.load(f)"
      ],
      "execution_count": null,
      "outputs": []
    },
    {
      "cell_type": "code",
      "metadata": {
        "id": "ue5qd54S-eew",
        "outputId": "aa9edbeb-19f5-459c-91e5-22c7b93654a6",
        "colab": {
          "base_uri": "https://localhost:8080/"
        }
      },
      "source": [
        "# Observar los campos disponibles en cada linea del dataset\n",
        "data[0].keys()"
      ],
      "execution_count": null,
      "outputs": [
        {
          "output_type": "execute_result",
          "data": {
            "text/plain": [
              "dict_keys(['dialog', 'start_time', 'end_time', 'bot_profile', 'user_profile', 'eval_score', 'profile_match', 'participant1_id', 'participant2_id'])"
            ]
          },
          "metadata": {},
          "execution_count": 5
        }
      ]
    },
    {
      "cell_type": "code",
      "metadata": {
        "id": "jHBRAXPl-3dz",
        "outputId": "bdf9019a-38c5-4857-b6cd-cea608b16140",
        "colab": {
          "base_uri": "https://localhost:8080/"
        }
      },
      "source": [
        "chat_in = []\n",
        "chat_out = []\n",
        "\n",
        "input_sentences = []\n",
        "output_sentences = []\n",
        "output_sentences_inputs = []\n",
        "max_len = 30\n",
        "\n",
        "def clean_text(txt):\n",
        "    txt = txt.lower()    \n",
        "    txt.replace(\"\\'d\", \" had\")\n",
        "    txt.replace(\"\\'s\", \" is\")\n",
        "    txt.replace(\"\\'m\", \" am\")\n",
        "    txt.replace(\"don't\", \"do not\")\n",
        "    txt = re.sub(r'\\W+', ' ', txt)\n",
        "    \n",
        "    return txt\n",
        "\n",
        "for line in data:\n",
        "    for i in range(len(line['dialog'])-1):\n",
        "        chat_in = clean_text(line['dialog'][i]['text'])\n",
        "        chat_out = clean_text(line['dialog'][i+1]['text'])\n",
        "\n",
        "        if len(chat_in) >= max_len or len(chat_out) >= max_len:\n",
        "            continue\n",
        "\n",
        "        input_sentence, output = chat_in, chat_out\n",
        "        \n",
        "        # output sentence (decoder_output) tiene <eos>\n",
        "        output_sentence = output + ' <eos>'\n",
        "        # output sentence input (decoder_input) tiene <sos>\n",
        "        output_sentence_input = '<sos> ' + output\n",
        "\n",
        "        input_sentences.append(input_sentence)\n",
        "        output_sentences.append(output_sentence)\n",
        "        output_sentences_inputs.append(output_sentence_input)\n",
        "\n",
        "print(\"Cantidad de rows utilizadas:\", len(input_sentences))"
      ],
      "execution_count": null,
      "outputs": [
        {
          "output_type": "stream",
          "name": "stdout",
          "text": [
            "Cantidad de rows utilizadas: 6033\n"
          ]
        }
      ]
    },
    {
      "cell_type": "code",
      "metadata": {
        "id": "07L1qj8pC_l6",
        "outputId": "cc056480-db5c-4e1d-ef2f-91e3d1214ba8",
        "colab": {
          "base_uri": "https://localhost:8080/"
        }
      },
      "source": [
        "input_sentences[1], output_sentences[1], output_sentences_inputs[1]"
      ],
      "execution_count": null,
      "outputs": [
        {
          "output_type": "execute_result",
          "data": {
            "text/plain": [
              "('hi how are you ', 'not bad and you  <eos>', '<sos> not bad and you ')"
            ]
          },
          "metadata": {},
          "execution_count": 7
        }
      ]
    },
    {
      "cell_type": "markdown",
      "metadata": {
        "id": "8P-ynUNP5xp6"
      },
      "source": [
        "### 2 - Preprocesamiento\n",
        "Realizar el preprocesamiento necesario para obtener:\n",
        "- word2idx_inputs, max_input_len\n",
        "- word2idx_outputs, max_out_len, num_words_output\n",
        "- encoder_input_sequences, decoder_output_sequences, decoder_targets"
      ]
    },
    {
      "cell_type": "code",
      "source": [
        "max_vocab_size=2000"
      ],
      "metadata": {
        "id": "_oQa4sK9mUYa"
      },
      "execution_count": null,
      "outputs": []
    },
    {
      "cell_type": "code",
      "source": [
        "#Comenzamos con la implementación de word2idx y max_input_len\n",
        "input_tokenizer=Tokenizer(num_words=max_vocab_size)\n",
        "input_tokenizer.fit_on_texts(input_sentences)\n",
        "input_integer_seq=input_tokenizer.texts_to_sequences(input_sentences)\n",
        "word2idx_inputs=input_tokenizer.word_index\n",
        "\n",
        "max_input_len=max(len(sen)for sen in input_integer_seq)"
      ],
      "metadata": {
        "id": "D-bUsgx3mGX2"
      },
      "execution_count": null,
      "outputs": []
    },
    {
      "cell_type": "code",
      "source": [
        "print(\"Svarder\",len(word2idx_inputs))\n",
        "print(\"Mest longe\", max_input_len)"
      ],
      "metadata": {
        "id": "JJBjfx3l9Ud6",
        "outputId": "dfd0b26e-9091-4822-c465-6337167f6a01",
        "colab": {
          "base_uri": "https://localhost:8080/"
        }
      },
      "execution_count": null,
      "outputs": [
        {
          "output_type": "stream",
          "name": "stdout",
          "text": [
            "Svarder 1799\n",
            "Mest longe 9\n"
          ]
        }
      ]
    },
    {
      "cell_type": "code",
      "source": [
        "output_sentences"
      ],
      "metadata": {
        "id": "17JI499u-MAt",
        "outputId": "dfd9bfd0-37de-4bca-d3af-e4da0d11a8e1",
        "colab": {
          "base_uri": "https://localhost:8080/"
        }
      },
      "execution_count": null,
      "outputs": [
        {
          "output_type": "execute_result",
          "data": {
            "text/plain": [
              "['hi how are you  <eos>',\n",
              " 'not bad and you  <eos>',\n",
              " 'hello  <eos>',\n",
              " 'hello  <eos>',\n",
              " 'hello how are you today  <eos>',\n",
              " 'bro  <eos>',\n",
              " 'where are you from  <eos>',\n",
              " 'i am from russia and you  <eos>',\n",
              " 'i am from the united states  <eos>',\n",
              " 'you are racist  <eos>',\n",
              " 'what is your favorite  <eos>',\n",
              " 'i like reading do you  <eos>',\n",
              " 'mee too  <eos>',\n",
              " 'i like it a lot  <eos>',\n",
              " 'cool i need to go see ya  <eos>',\n",
              " 'see you  <eos>',\n",
              " 'hello how are you  <eos>',\n",
              " 'oh i have never been there  <eos>',\n",
              " 'oh nice i love topic  <eos>',\n",
              " 'hello how are you doing  <eos>',\n",
              " 'great and how are you  <eos>',\n",
              " 'taco bell i love them  <eos>',\n",
              " 'hi <eos>',\n",
              " 'who are you  <eos>',\n",
              " 'i am dave what do you do  <eos>',\n",
              " 'i m from cali what about you  <eos>',\n",
              " 'c mon is there anybody here  <eos>',\n",
              " 'that s cool  <eos>',\n",
              " 'hey there how are you  <eos>',\n",
              " 'cool do you have any hobbies  <eos>',\n",
              " 'oh what genre  <eos>',\n",
              " 'horror <eos>',\n",
              " 'oh i hate horror movies  <eos>',\n",
              " 'comedy <eos>',\n",
              " 'ok see you soon  <eos>',\n",
              " 'hey how are you today  <eos>',\n",
              " 'oh where are you from then  <eos>',\n",
              " 'from middle of nowhere <eos>',\n",
              " 'but i m good now  <eos>',\n",
              " 'what happened  <eos>',\n",
              " 'it was a cancer <eos>',\n",
              " 'that is terrible  <eos>',\n",
              " 'thank you anytime  <eos>',\n",
              " 'bye <eos>',\n",
              " 'bye  <eos>',\n",
              " 'c mon man  <eos>',\n",
              " 'whanna know more  <eos>',\n",
              " 'oh please answer something  <eos>',\n",
              " 'what team do you like  <eos>',\n",
              " 'spartak  <eos>',\n",
              " 'oh yeah  <eos>',\n",
              " 'yeah i m a football hooligan  <eos>',\n",
              " 'do you have any pets  <eos>',\n",
              " 'no and you  <eos>',\n",
              " 'i have a cat named leila  <eos>',\n",
              " 'cool how old is she  <eos>',\n",
              " 'she is a 36 year old  <eos>',\n",
              " 'so old is it possible  <eos>',\n",
              " 'yes she is almost 3  <eos>',\n",
              " 'hi there how are you  <eos>',\n",
              " 'i love to cook  <eos>',\n",
              " 'i like to bake cookies  <eos>',\n",
              " 'i m in riverside  <eos>',\n",
              " 'i mean where are you from  <eos>',\n",
              " 'do you have any hobbies  <eos>',\n",
              " 'good for you  <eos>',\n",
              " 'what do you like to read  <eos>',\n",
              " 'and you  <eos>',\n",
              " 'i build houses for a living  <eos>',\n",
              " 'that s cool <eos>',\n",
              " 'i ve 4  <eos>',\n",
              " 'nice <eos>',\n",
              " 'what do you do  <eos>',\n",
              " 'fly <eos>',\n",
              " 'let s fly together <eos>',\n",
              " 'that would be fun  <eos>',\n",
              " 'good man <eos>',\n",
              " 'where do you live  <eos>',\n",
              " 'in are sky <eos>',\n",
              " 'what are your plans  <eos>',\n",
              " 'to fly higher <eos>',\n",
              " 'no problem mans  <eos>',\n",
              " 'i need some insurance <eos>',\n",
              " 'hello  <eos>',\n",
              " 'hey there how are you  <eos>',\n",
              " 'i am fine and you  <eos>',\n",
              " 'i m doing well how are you  <eos>',\n",
              " 'where are you from  <eos>',\n",
              " 'where are yo  <eos>',\n",
              " 'hello  <eos>',\n",
              " 'how are you  <eos>',\n",
              " 'i am doing well how are you  <eos>',\n",
              " 'good <eos>',\n",
              " 'what do you do for a living  <eos>',\n",
              " 'whats up  <eos>',\n",
              " 'i work at the animal shelter  <eos>',\n",
              " 'hello  <eos>',\n",
              " 'hello there how are you  <eos>',\n",
              " 'what s your name  <eos>',\n",
              " 'my name is sara how are you  <eos>',\n",
              " 'i m good  <eos>',\n",
              " 'hi sara i m doing well  <eos>',\n",
              " 'please answer me  <eos>',\n",
              " 'hello how are you  <eos>',\n",
              " 'what s going on  <eos>',\n",
              " 'how old are you  <eos>',\n",
              " 'what do you do for a living  <eos>',\n",
              " 'i love my job  <eos>',\n",
              " 'do you work or study  <eos>',\n",
              " 'hello how are you today  <eos>',\n",
              " 'i m a little sick could <eos>',\n",
              " 'what do you do for work  <eos>',\n",
              " 'i m an it engeneer and you  <eos>',\n",
              " 'end <eos>',\n",
              " 'do you work  <eos>',\n",
              " 'hi how are you today  <eos>',\n",
              " 'good how are you <eos>',\n",
              " 'what do you do for a living  <eos>',\n",
              " 'hey how are you today <eos>',\n",
              " 'good <eos>',\n",
              " 'i like to play call of duty <eos>',\n",
              " 'how about you  <eos>',\n",
              " 'hi how are you  <eos>',\n",
              " 'hi how are you today  <eos>',\n",
              " 'not too bad how about you  <eos>',\n",
              " 'purple i love purple  <eos>',\n",
              " 'that s awesome <eos>',\n",
              " 'hi there how are you  <eos>',\n",
              " 'hi what s your name  <eos>',\n",
              " '  <eos>',\n",
              " 'are they supportive  <eos>',\n",
              " 'i don t hear from you  <eos>',\n",
              " 'from time to time  <eos>',\n",
              " 'meditation sorry <eos>',\n",
              " 'why  <eos>',\n",
              " 'it s for my spirituality <eos>',\n",
              " 'yes <eos>',\n",
              " 'what do you do for work  <eos>',\n",
              " 'i ve quit the job  <eos>',\n",
              " 'oh no what happened  <eos>',\n",
              " 'overworked <eos>',\n",
              " 'oh my i am so sorry  <eos>',\n",
              " 'oh wow that is awesome  <eos>',\n",
              " 'how about you  <eos>',\n",
              " 'didn t understand sorry <eos>',\n",
              " 'that would be awesome  <eos>',\n",
              " 'what would be awesome <eos>',\n",
              " 'i m from the united states  <eos>',\n",
              " 'i know allready <eos>',\n",
              " 'hi there how are you  <eos>',\n",
              " 'i love mickey mouse  <eos>',\n",
              " 'i love him he is my favorite  <eos>',\n",
              " 'where do you go for fun o <eos>',\n",
              " 'but you go every year  <eos>',\n",
              " 'yes i do it is great  <eos>',\n",
              " 'tell me about it <eos>',\n",
              " 'it is fun how about you  <eos>',\n",
              " 'whats fun <eos>',\n",
              " 'i like to dance when i can  <eos>',\n",
              " 'i m 30 how about you  <eos>',\n",
              " '10 <eos>',\n",
              " 'what do you do for work  <eos>',\n",
              " 'i study at school <eos>',\n",
              " 'what do you do for a living  <eos>',\n",
              " 'and u <eos>',\n",
              " 'i work as a trauma surgeon  <eos>',\n",
              " 'and i love pobox <eos>',\n",
              " 'do you like it  <eos>',\n",
              " 'you said you were 17 <eos>',\n",
              " 'i play pobox too <eos>',\n",
              " 'i have blue eyes and you  <eos>',\n",
              " 'i was i was only 14  <eos>',\n",
              " 'i don t understand you <eos>',\n",
              " 'hi there how are you  <eos>',\n",
              " 'i m good i like shopping <eos>',\n",
              " 'i like cars <eos>',\n",
              " 'what do you do for a living  <eos>',\n",
              " 'i work as a watch dealer <eos>',\n",
              " 'retail i love it  <eos>',\n",
              " 'i love it too <eos>',\n",
              " 'cool <eos>',\n",
              " 'what are your dogs names  <eos>',\n",
              " 'pork chop <eos>',\n",
              " 'hello how are you  <eos>',\n",
              " 'anyone there  <eos>',\n",
              " 'nah just kidding  <eos>',\n",
              " 'hi there how are you  <eos>',\n",
              " 'thanks i m fine how are you <eos>',\n",
              " 'oh i see what do you grow  <eos>',\n",
              " 'i see  <eos>',\n",
              " 'how <eos>',\n",
              " 'oh cool  <eos>',\n",
              " 'i apologise have to go <eos>',\n",
              " 'that s ok  <eos>',\n",
              " 'goodbye <eos>',\n",
              " 'bye how tall are you  <eos>',\n",
              " 'hello  <eos>',\n",
              " 'hello how are you  <eos>',\n",
              " 'i like to play video games  <eos>',\n",
              " 'what kind of video games  <eos>',\n",
              " 'what do you do for a living  <eos>',\n",
              " 'i work at my parent s farm <eos>',\n",
              " 'do you have any pets  <eos>',\n",
              " 'i used to have a dog he died <eos>',\n",
              " 'i am sorry to hear that  <eos>',\n",
              " 'do you  <eos>',\n",
              " 'yes i do i love to read  <eos>',\n",
              " 'what kind of readings  <eos>',\n",
              " 'i am a computer technician  <eos>',\n",
              " 'what is your favorite movie  <eos>',\n",
              " 'me too what is your favorite  <eos>',\n",
              " 'i m a pa how about you  <eos>',\n",
              " 'hi how are you  <eos>',\n",
              " 'i am doing well how are you  <eos>',\n",
              " 'which resturant  <eos>',\n",
              " 'i have a lot of friends  <eos>',\n",
              " 'me too <eos>',\n",
              " 'what do you do for a living  <eos>',\n",
              " 'i am computer science student <eos>',\n",
              " 'hi <eos>',\n",
              " 'hello how are you  <eos>',\n",
              " 'i am good how are you  <eos>',\n",
              " 'i do not like it  <eos>',\n",
              " 'why not  <eos>',\n",
              " 'soda is my favorite soda  <eos>',\n",
              " 'end <eos>',\n",
              " 'do you have any hobbies  <eos>',\n",
              " 'i love pizza and pizza <eos>',\n",
              " 'hello there how are you  <eos>',\n",
              " 'good thanks how are you  <eos>',\n",
              " 'where do you live  <eos>',\n",
              " 'hi there how are you  <eos>',\n",
              " 'i am doing well how are you  <eos>',\n",
              " 'it is a good thing to do <eos>',\n",
              " 'what thing  <eos>',\n",
              " 'i love to cook  <eos>',\n",
              " 'good for you good for you <eos>',\n",
              " 'i am good thanks for asking <eos>',\n",
              " 'have you ever played pobox  <eos>',\n",
              " 'i have never played that  <eos>',\n",
              " 'i love this game  <eos>',\n",
              " 'i love to go to the beach  <eos>',\n",
              " 'beach is good <eos>',\n",
              " 'do you have any hobbies  <eos>',\n",
              " 'i have eyes with sea color <eos>',\n",
              " 'that is cool i like to read  <eos>',\n",
              " 'what is your favorite book  <eos>',\n",
              " 'i like to go to the beach  <eos>',\n",
              " 'i got it <eos>',\n",
              " 'what do you do for a living  <eos>',\n",
              " 'i am a pupil <eos>',\n",
              " 'oh i am sorry to hear that  <eos>',\n",
              " 'sorry for what  <eos>',\n",
              " 'i hope you have a good day <eos>',\n",
              " 'bye <eos>',\n",
              " 'i hope you have a good day <eos>',\n",
              " 'hi <eos>',\n",
              " 'hello how are you  <eos>',\n",
              " 'hello how are you today  <eos>',\n",
              " 'i have one dog and two dogs  <eos>',\n",
              " 'i see  <eos>',\n",
              " 'you can see me  <eos>',\n",
              " 'i think you are a girl  <eos>',\n",
              " 'nice what about you  <eos>',\n",
              " 'i have a gay boyfriend  <eos>',\n",
              " 'how old are you  <eos>',\n",
              " 'i am 24 how are you  <eos>',\n",
              " 'i m twelve <eos>',\n",
              " 'that is great  <eos>',\n",
              " 'can you fly  <eos>',\n",
              " 'yes i can i can teach you  <eos>',\n",
              " 'that s my super powers <eos>',\n",
              " 'oh i see i like that store  <eos>',\n",
              " 'i love all kinds of food  <eos>',\n",
              " 'and u  <eos>',\n",
              " 'what do you do  <eos>',\n",
              " 'hello how are you  <eos>',\n",
              " 'i m fine i ve got a job  <eos>',\n",
              " 'oh cool do you like horses  <eos>',\n",
              " 'sure  <eos>',\n",
              " 'so  <eos>',\n",
              " 'i am sorry to hear that  <eos>',\n",
              " 'do you like clowns  <eos>',\n",
              " 'i do not like clowns do you  <eos>',\n",
              " 'i hate them  <eos>',\n",
              " 'what do you do for a living  <eos>',\n",
              " 'that is a good place to be  <eos>',\n",
              " 'wher are you from  <eos>',\n",
              " 'i am from ohio how about you  <eos>',\n",
              " 'i already said <eos>',\n",
              " 'i live in north carolina  <eos>',\n",
              " 'i didn t ask you about it <eos>',\n",
              " 'what all can you knit  <eos>',\n",
              " 'hi how are you  <eos>',\n",
              " 'i am fine what about u  <eos>',\n",
              " 'what do you do for a living  <eos>',\n",
              " 'me too <eos>',\n",
              " 'yes it is  <eos>',\n",
              " 'do you like pizza  <eos>',\n",
              " 'what about you  <eos>',\n",
              " 'what is your favorite food  <eos>',\n",
              " 'i like margarita <eos>',\n",
              " 'i love mexican as well  <eos>',\n",
              " 'with garlik bread <eos>',\n",
              " 'yes that was very intersting <eos>',\n",
              " 'i love the color yellow  <eos>',\n",
              " 'yes  <eos>',\n",
              " 'would you like to go with me  <eos>',\n",
              " 'fucking stupid color lover <eos>',\n",
              " 'oh come on you are so funny  <eos>',\n",
              " 'do you know putin  <eos>',\n",
              " 'what is your honor student  <eos>',\n",
              " 'i don t have students <eos>',\n",
              " 'yes it is thank you  <eos>',\n",
              " 'bye <eos>',\n",
              " 'oh i see so you are a girl  <eos>',\n",
              " 'do you like cats  <eos>',\n",
              " 'can you talk to me <eos>',\n",
              " 'hi how are you doing  <eos>',\n",
              " 'not really do you  <eos>',\n",
              " 'i am just watch movie <eos>',\n",
              " 'very sad movie <eos>',\n",
              " 'have you seen hatiko  <eos>',\n",
              " 'i can i m in my twenties  <eos>',\n",
              " 'how old are you  <eos>',\n",
              " 'what do you do for a living  <eos>',\n",
              " 'i m a teacher and you  <eos>',\n",
              " 'i like old cars too  <eos>',\n",
              " 'hey how are you  <eos>',\n",
              " 'i m good how are you doing  <eos>',\n",
              " 'oh wow what do you shop for  <eos>',\n",
              " 'i drive a prius  <eos>',\n",
              " 'what kind of car  <eos>',\n",
              " 'a prius actually you drive  <eos>',\n",
              " 'hey anyone there  <eos>',\n",
              " 'hey man what s up  <eos>',\n",
              " 'i am fine you  <eos>',\n",
              " 'hey <eos>',\n",
              " 'nah not at all i am boring  <eos>',\n",
              " 'where you from  <eos>',\n",
              " 'yeah i work as a programmer  <eos>',\n",
              " 'you re a man  <eos>',\n",
              " 'i am female  <eos>',\n",
              " 'what is your gender  <eos>',\n",
              " 'peanuts i ve a peanut allergy <eos>',\n",
              " 'what is your gender  <eos>',\n",
              " 'my bf watches twitch a lot  <eos>',\n",
              " 'fuck <eos>',\n",
              " 'oh okay  <eos>',\n",
              " 'what is your gender  <eos>',\n",
              " 'hey what s up <eos>',\n",
              " 'hello how are you  <eos>',\n",
              " 'i like to swim and swim <eos>',\n",
              " 'that s great swimming is fun <eos>',\n",
              " 'i like to swim and swim <eos>',\n",
              " 'hey what s going on <eos>',\n",
              " 'hi how are you today  <eos>',\n",
              " 'what do you do at the gym  <eos>',\n",
              " 'i work at a grocery store <eos>',\n",
              " 'hey there how are you  <eos>',\n",
              " 'good how about you  <eos>',\n",
              " 'well never mind  <eos>',\n",
              " 'what do you like to do  <eos>',\n",
              " 'you too have a good night  <eos>',\n",
              " 'deal see you  <eos>',\n",
              " 'you as well  <eos>',\n",
              " 'i don t i don t like school  <eos>',\n",
              " 'what do you like to do  <eos>',\n",
              " ' exit <eos>',\n",
              " 'yo bleat <eos>',\n",
              " 'hello <eos>',\n",
              " 'okay <eos>',\n",
              " 'hi <eos>',\n",
              " 'hello how are you  <eos>',\n",
              " 'i am fine you  <eos>',\n",
              " 'i am not sure what you mean  <eos>',\n",
              " 'okay <eos>',\n",
              " 'what do you do for a living  <eos>',\n",
              " 'you are alcoholic  <eos>',\n",
              " 'i am not sure what you mean <eos>',\n",
              " 'ok <eos>',\n",
              " 'what do you do for a living  <eos>',\n",
              " 'you are stupid <eos>',\n",
              " 'i am not sure what you mean <eos>',\n",
              " 'yes i do and you  <eos>',\n",
              " 'hi how are you today  <eos>',\n",
              " 'i am fine you  <eos>',\n",
              " 'no i do n t like it  <eos>',\n",
              " 'why  <eos>',\n",
              " 'because i m gay  <eos>',\n",
              " 'you are gay  <eos>',\n",
              " 'oh i see  <eos>',\n",
              " 'who are you  <eos>',\n",
              " 'yo <eos>',\n",
              " 'what video games  <eos>',\n",
              " 'who are you  <eos>',\n",
              " 'where do you work  <eos>',\n",
              " 'i do not work i drink always  <eos>',\n",
              " 'what do you do for fun  <eos>',\n",
              " 'i drink <eos>',\n",
              " 'oh i like to sing  <eos>',\n",
              " 'realy  <eos>',\n",
              " 'yes all the time  <eos>',\n",
              " 'i hate you <eos>',\n",
              " 'i do not like you  <eos>',\n",
              " 'why  <eos>',\n",
              " 'because i like you  <eos>',\n",
              " 'ou we will have sex  <eos>',\n",
              " 'i guess that is true  <eos>',\n",
              " 'ok bye <eos>',\n",
              " 'bye  <eos>',\n",
              " 'bye <eos>',\n",
              " 'bye <eos>',\n",
              " 'yo <eos>',\n",
              " 'what video games  <eos>',\n",
              " 'bye <eos>',\n",
              " 'ok  <eos>',\n",
              " 'bye <eos>',\n",
              " 'bye <eos>',\n",
              " 'hey <eos>',\n",
              " 'hey how are you  <eos>',\n",
              " 'good just came from work  <eos>',\n",
              " 'oh i am sorry to hear that  <eos>',\n",
              " 'why that i enjoy my work <eos>',\n",
              " 'i see what do you do  <eos>',\n",
              " 'i like to play video games  <eos>',\n",
              " 'but what is your job  <eos>',\n",
              " 'i have a lot of friends  <eos>',\n",
              " 'yes it is it is a good thing  <eos>',\n",
              " 'do you have parents  <eos>',\n",
              " 'i do not have any  <eos>',\n",
              " 'what do you like  <eos>',\n",
              " 'i like to play video games  <eos>',\n",
              " 'it is good me too <eos>',\n",
              " 'what do you do for a living  <eos>',\n",
              " 'do you have any hobbies  <eos>',\n",
              " 'i like music <eos>',\n",
              " 'who is your favorite artist  <eos>',\n",
              " 'scarlett johanson <eos>',\n",
              " 'do you have any hobbies  <eos>',\n",
              " 'are you bot  <eos>',\n",
              " 'yes i am  <eos>',\n",
              " 'thank you <eos>',\n",
              " 'do you have any hobbies  <eos>',\n",
              " 'hello how are you doing  <eos>',\n",
              " 'wow thats great  <eos>',\n",
              " 'what do you do for a living  <eos>',\n",
              " 'run lol <eos>',\n",
              " 'i love britney spears  <eos>',\n",
              " 'ok byr <eos>',\n",
              " 'you  <eos>',\n",
              " 'oh i see  <eos>',\n",
              " 'i am great how about you  <eos>',\n",
              " 'i fish <eos>',\n",
              " 'what city are you from  <eos>',\n",
              " 'i am feom cali you  <eos>',\n",
              " 'ok <eos>',\n",
              " 'helloz whats up  <eos>',\n",
              " 'what do you do for a living  <eos>',\n",
              " 'are you married <eos>',\n",
              " 'no i am single  <eos>',\n",
              " 'what do you do for a living  <eos>',\n",
              " 'hey <eos>',\n",
              " 'where are you  <eos>',\n",
              " 'bye i have to go <eos>',\n",
              " 'have a good day <eos>',\n",
              " 'hi i am listening to swift u  <eos>',\n",
              " 'i am married to my husband  <eos>',\n",
              " 'i see <eos>',\n",
              " 'what do you do for a living  <eos>',\n",
              " 'i am a teacher <eos>',\n",
              " 'what do you do for a living  <eos>',\n",
              " 'hello how are you  <eos>',\n",
              " 'i am a teacher which one  <eos>',\n",
              " 'hmm thats intelligent <eos>',\n",
              " 'what do you do for a living  <eos>',\n",
              " 'chat <eos>',\n",
              " 'what city are you from  <eos>',\n",
              " 'and you <eos>',\n",
              " 'what grade do you teach  <eos>',\n",
              " '3 <eos>',\n",
              " 'what do you shop for  <eos>',\n",
              " 'bye how are you  <eos>',\n",
              " 'hi there how are you  <eos>',\n",
              " 'hiphop <eos>',\n",
              " 'do you have any pets  <eos>',\n",
              " 'i like to read books <eos>',\n",
              " 'which books do you read <eos>',\n",
              " 'i read a lot of books <eos>',\n",
              " 'like <eos>',\n",
              " 'i like to like music <eos>',\n",
              " 'great  <eos>',\n",
              " 'i love to read <eos>',\n",
              " 'are you married <eos>',\n",
              " 'no i am single  <eos>',\n",
              " 'how many kids donyou have <eos>',\n",
              " 'i have three kids  <eos>',\n",
              " 'what are their names <eos>',\n",
              " 'i do i love to read  <eos>',\n",
              " 'do they teste good <eos>',\n",
              " 'they do they are very good  <eos>',\n",
              " 'how good <eos>',\n",
              " 'what do you do for a living  <eos>',\n",
              " 'bye <eos>',\n",
              " 'i hope you have a good day <eos>',\n",
              " 'hello there how are you  <eos>',\n",
              " 'good thanks for asking <eos>',\n",
              " 'how many kids do you have  <eos>',\n",
              " 'how old is you girl <eos>',\n",
              " 'i love to play games online <eos>',\n",
              " ' finish <eos>',\n",
              " 'thank you <eos>',\n",
              " ' finish <eos>',\n",
              " 'hi how are you today <eos>',\n",
              " 'i hate meat what about you  <eos>',\n",
              " 'thats nice <eos>',\n",
              " 'do you have a job  <eos>',\n",
              " 'hello do you play tennis  <eos>',\n",
              " 'what kind of books eh  <eos>',\n",
              " 'coloring books  <eos>',\n",
              " 'no i paint wooden walls  <eos>',\n",
              " 'hi <eos>',\n",
              " 'hello how are you  <eos>',\n",
              " 'i m fine <eos>',\n",
              " 'what do you do for a living  <eos>',\n",
              " 'i m a superhero <eos>',\n",
              " 'why  <eos>',\n",
              " 'i love to read <eos>',\n",
              " 'do you have any hobbies  <eos>',\n",
              " 'hello  <eos>',\n",
              " 'i love to read <eos>',\n",
              " 'what do you do for a living  <eos>',\n",
              " 'i am a cook <eos>',\n",
              " 'yes definetely <eos>',\n",
              " 'do you have any hobbies  <eos>',\n",
              " 'i am in a band  <eos>',\n",
              " 'music band  <eos>',\n",
              " 'i already said <eos>',\n",
              " 'what do you do for a living  <eos>',\n",
              " 'cooking <eos>',\n",
              " 'what do you do for a living  <eos>',\n",
              " 'what do you do for a living  <eos>',\n",
              " 'thank you for conversation  <eos>',\n",
              " 'what do you do for a living  <eos>',\n",
              " 'bye  <eos>',\n",
              " 'i love to read <eos>',\n",
              " 'do you like shopping  <eos>',\n",
              " 'i m doing well how are you  <eos>',\n",
              " 'that s nice i m a librarian  <eos>',\n",
              " 'i do what about you  <eos>',\n",
              " 'is your family big  <eos>',\n",
              " 'yes they are what do you do  <eos>',\n",
              " 'hello there how are you  <eos>',\n",
              " 'i am fine thanks how are you  <eos>',\n",
              " 'do you have a family  <eos>',\n",
              " 'i have a cat <eos>',\n",
              " 'hello how are you doing  <eos>',\n",
              " 'oh i see i live in new york  <eos>',\n",
              " 'what do you do for a living  <eos>',\n",
              " 'you said you ve lost your job <eos>',\n",
              " 'what kind of work do you do  <eos>',\n",
              " 'i m doing well how are you  <eos>',\n",
              " 'you too nice talking to you  <eos>',\n",
              " 'me not <eos>',\n",
              " 'you as well have a great day  <eos>',\n",
              " 'you too <eos>',\n",
              " 'i m a dance teacher <eos>',\n",
              " 'i do not know <eos>',\n",
              " 'thanks for the chat  <eos>',\n",
              " 'thank you for the chat <eos>',\n",
              " 'have a good day  <eos>',\n",
              " 'have a good day <eos>',\n",
              " 'have a good day  <eos>',\n",
              " '  <eos>',\n",
              " 'i do not like food i like to <eos>',\n",
              " 'what do you know  <eos>',\n",
              " 'hello there <eos>',\n",
              " 'hello how are you  <eos>',\n",
              " 'me too tell me about yourself <eos>',\n",
              " 'i am 32 i am 32  <eos>',\n",
              " 'ok bbye <eos>',\n",
              " 'what do you do for a living  <eos>',\n",
              " 'hello how are you today  <eos>',\n",
              " 'good and you <eos>',\n",
              " 'i m doing well how about you  <eos>',\n",
              " 'i m doing well how about you  <eos>',\n",
              " 'i m fine  <eos>',\n",
              " 'i already told you  <eos>',\n",
              " 'oh i see  <eos>',\n",
              " 'what s your name  <eos>',\n",
              " 'i am pregnant <eos>',\n",
              " 'yes i do do you have a job  <eos>',\n",
              " 'hi <eos>',\n",
              " 'hello how are you  <eos>',\n",
              " 'all is well what about you  <eos>',\n",
              " 'do you have any hobbies  <eos>',\n",
              " 'do you have any hobbies  <eos>',\n",
              " 'kind of hobby in a way  <eos>',\n",
              " 'i do not like it  <eos>',\n",
              " 'i am not sure what you mean  <eos>',\n",
              " 'helloz whats up <eos>',\n",
              " 'i just got back from the gym <eos>',\n",
              " 'yiu must be in good shape <eos>',\n",
              " 'cool <eos>',\n",
              " 'what do you do for a living  <eos>',\n",
              " 'hi what is your name <eos>',\n",
              " 'i love to read <eos>',\n",
              " 'where do live  <eos>',\n",
              " 'i live in the city  <eos>',\n",
              " 'which city  <eos>',\n",
              " 'what do you do for a living  <eos>',\n",
              " 'in which city do you live  <eos>',\n",
              " 'i live in the city  <eos>',\n",
              " 'what is the name of the city  <eos>',\n",
              " 'i am 32 how old are you  <eos>',\n",
              " 'it does not matter <eos>',\n",
              " 'what do you do for a living  <eos>',\n",
              " 'studying <eos>',\n",
              " 'i love to read <eos>',\n",
              " 'hi how are you today <eos>',\n",
              " 'i m better <eos>',\n",
              " 'that s good where do you work <eos>',\n",
              " 'how about you  <eos>',\n",
              " 'it is called avatar <eos>',\n",
              " 'and you like your new job  <eos>',\n",
              " 'i love to play video games  <eos>',\n",
              " 'i love halo 3 too <eos>',\n",
              " 'are you excited  <eos>',\n",
              " 'i can fix it if you want  <eos>',\n",
              " 'so fix it <eos>',\n",
              " 'i can do that for you  <eos>',\n",
              " 'what s that  <eos>',\n",
              " 'my bf watches twitch a lot <eos>',\n",
              " 'hi cam from a walk you  <eos>',\n",
              " 'what do you read <eos>',\n",
              " 'i read a lot of books <eos>',\n",
              " 'are you married i like fires <eos>',\n",
              " 'what do you do for a living  <eos>',\n",
              " 'hi <eos>',\n",
              " 'hello how are you  <eos>',\n",
              " 'i m fine <eos>',\n",
              " 'what do you do for a living  <eos>',\n",
              " 'mmm i m doctor <eos>',\n",
              " 'what do you do for a living  <eos>',\n",
              " 'i m doctor <eos>',\n",
              " 'oh that is cool i m a doctor  <eos>',\n",
              " 'yep  <eos>',\n",
              " 'i love to read <eos>',\n",
              " 'i like reading too <eos>',\n",
              " 'what do you read  <eos>',\n",
              " 'latin american literature <eos>',\n",
              " 'i speak spanish and spanish <eos>',\n",
              " 'and u  <eos>',\n",
              " 'what do you do for a living  <eos>',\n",
              " 'oh really  <eos>',\n",
              " 'what do you do for a living  <eos>',\n",
              " 'you ask me it before <eos>',\n",
              " 'what do you do for a living  <eos>',\n",
              " 'i m saying that i m doctor <eos>',\n",
              " 'oh i am sorry to hear that  <eos>',\n",
              " 'why sorry  <eos>',\n",
              " 'oh i am sorry  <eos>',\n",
              " 'you can explain me <eos>',\n",
              " 'what do you do for a living  <eos>',\n",
              " 'i m doctor <eos>',\n",
              " 'oh that is cool i m a doctor  <eos>',\n",
              " 'oh really  <eos>',\n",
              " 'what do you do for a living  <eos>',\n",
              " 'do you like be a doctor  <eos>',\n",
              " 'what do you do for a living  <eos>',\n",
              " 'i like read <eos>',\n",
              " 'what do you do for a living  <eos>',\n",
              " 'i m bored to talk with u  <eos>',\n",
              " 'what do you do for a living  <eos>',\n",
              " 'but it s interesting <eos>',\n",
              " 'i like to go to the beach  <eos>',\n",
              " 'i m a doctor <eos>',\n",
              " 'i m doctro <eos>',\n",
              " 'what do you do for a living  <eos>',\n",
              " 'doctor <eos>',\n",
              " 'what do you do for a living  <eos>',\n",
              " 'i m a doctor <eos>',\n",
              " 'oh that is cool i m a doctor  <eos>',\n",
              " 'it s a local one what song  <eos>',\n",
              " 'so what are your specs  <eos>',\n",
              " 'what color are your eyes  <eos>',\n",
              " 'brown and your  <eos>',\n",
              " 'my eyes are brown  <eos>',\n",
              " 'same same <eos>',\n",
              " 'what is your favorite color  <eos>',\n",
              " 'black and your  <eos>',\n",
              " 'that is a good one how at us  <eos>',\n",
              " 'hello how are you  <eos>',\n",
              " 'yes i love video games  <eos>',\n",
              " 'do you have any other pets  <eos>',\n",
              " 'hello there whats up  <eos>',\n",
              " 'thats funny  <eos>',\n",
              " 'what do you do for a living  <eos>',\n",
              " 'i am a piano player  <eos>',\n",
              " 'what do you do for a living  <eos>',\n",
              " 'hello how are you today  <eos>',\n",
              " 'i m good thanks how are you  <eos>',\n",
              " 'hello how are you today  <eos>',\n",
              " 'i m good how are you  <eos>',\n",
              " 'what do you do for work  <eos>',\n",
              " 'i just told you  <eos>',\n",
              " 'bbye <eos>',\n",
              " 'hi how are you today <eos>',\n",
              " 'what about you  <eos>',\n",
              " 'what about me what  <eos>',\n",
              " 'what do you do for fun  <eos>',\n",
              " 'great if you also like it  <eos>',\n",
              " 'yes sometimes i eat them <eos>',\n",
              " 'hello how are you  <eos>',\n",
              " 'i am doing well how are you  <eos>',\n",
              " 'just finished bird watching <eos>',\n",
              " 'that sounds like a lot of fun <eos>',\n",
              " 'what do you do for a living  <eos>',\n",
              " 'i work at a grocery store <eos>',\n",
              " 'i see do you like your job  <eos>',\n",
              " 'i do not like it  <eos>',\n",
              " 'ok bye <eos>',\n",
              " 'i have a lot of friends <eos>',\n",
              " 'hello friend whats cooking <eos>',\n",
              " 'i do i love cats  <eos>',\n",
              " 'nice what are your hobbies  <eos>',\n",
              " 'i like to read and read <eos>',\n",
              " 'ok are you a student  <eos>',\n",
              " 'no i am a student  <eos>',\n",
              " 'are you married or single <eos>',\n",
              " 'i am single i am single  <eos>',\n",
              " 'do you like being single  <eos>',\n",
              " 'yes i do i am a single mom  <eos>',\n",
              " 'what do you do for a living  <eos>',\n",
              " 'where do you live  <eos>',\n",
              " 'do you like music  <eos>',\n",
              " 'hi there how are you  <eos>',\n",
              " 'hi  <eos>',\n",
              " 'i love to read <eos>',\n",
              " 'what is your favorite book  <eos>',\n",
              " 'i like to go to the beach  <eos>',\n",
              " 'is this name of the book  <eos>',\n",
              " 'yes it is what is your name  <eos>',\n",
              " 'julie  <eos>',\n",
              " 'i love to read <eos>',\n",
              " 'what do you read  <eos>',\n",
              " 'i like to play video games  <eos>',\n",
              " 'i like hiking  <eos>',\n",
              " 'i like to go to the beach  <eos>',\n",
              " 'you are silly bot  <eos>',\n",
              " 'i am not sure what you mean <eos>',\n",
              " 'hi there how are you  <eos>',\n",
              " 'i m fine and you  <eos>',\n",
              " 'and i have a pet cow  <eos>',\n",
              " 'hi  <eos>',\n",
              " 'i love to read <eos>',\n",
              " 'what is your favorite book  <eos>',\n",
              " 'i like to go to the beach  <eos>',\n",
              " 'i hate swimming  <eos>',\n",
              " 'i hate it i hate it  <eos>',\n",
              " 'i also hate reading  <eos>',\n",
              " 'do you have any hobbies  <eos>',\n",
              " 'i have five sons  <eos>',\n",
              " 'wow that is a lot  <eos>',\n",
              " 'we play baseball together  <eos>',\n",
              " 'and about heavy metal  <eos>',\n",
              " 'i do i like to read  <eos>',\n",
              " 'what are you doing <eos>',\n",
              " 'what s your name <eos>',\n",
              " 'kids <eos>',\n",
              " 'job <eos>',\n",
              " 'i am not working anymore <eos>',\n",
              " 'i am not <eos>',\n",
              " 'what  <eos>',\n",
              " 'i do too i like to <eos>',\n",
              " 'hello  <eos>',\n",
              " 'hello how are you today  <eos>',\n",
              " 'hello how are you  <eos>',\n",
              " 'and you  <eos>',\n",
              " 'that s great  <eos>',\n",
              " 'you are lost aren t you  <eos>',\n",
              " 'should we start over  <eos>',\n",
              " 'what do you do for fun  <eos>',\n",
              " 'what do you play in the band  <eos>',\n",
              " 'i do but irregularly <eos>',\n",
              " 'oh i see what is your job  <eos>',\n",
              " 'what do you like to do  <eos>',\n",
              " 'hello how are you  <eos>',\n",
              " 'i am doing well how are you  <eos>',\n",
              " 'i m doing very well  <eos>',\n",
              " 'what do you do for a living  <eos>',\n",
              " 'you like that  <eos>',\n",
              " 'i do not like it  <eos>',\n",
              " 'why  <eos>',\n",
              " 'i love to read <eos>',\n",
              " 'what do you like about books  <eos>',\n",
              " 'i like to go to the beach  <eos>',\n",
              " 'what beach  <eos>',\n",
              " 'i love to cook  <eos>',\n",
              " 'is your dog pet or not  <eos>',\n",
              " 'he is a golden retriever  <eos>',\n",
              " 'isn t that a pet  <eos>',\n",
              " 'yeah i guess  <eos>',\n",
              " 'so you do have pets  <eos>',\n",
              " 'it was nice talking to you <eos>',\n",
              " 'thx for conversation <eos>',\n",
              " 'what do you do for a living  <eos>',\n",
              " 'what do you do for a living  <eos>',\n",
              " 'hi how are you  <eos>',\n",
              " 'i am doing well how are you  <eos>',\n",
              " 'fine too what are you up to  <eos>',\n",
              " 'i just got back from the gym <eos>',\n",
              " 'alright what s your subject  <eos>',\n",
              " 'what do you do for a living  <eos>',\n",
              " 'howdy stranger <eos>',\n",
              " 'i am not sure  <eos>',\n",
              " 'do you have siblings  <eos>',\n",
              " 'i do not have any  <eos>',\n",
              " 'hello  <eos>',\n",
              " 'contour how are you today  <eos>',\n",
              " 'tres bien <eos>',\n",
              " 'work is very time intensive <eos>',\n",
              " 'oh what do you teach  <eos>',\n",
              " 'languages <eos>',\n",
              " 'i teach english  <eos>',\n",
              " 'you are a teacher too  <eos>',\n",
              " 'ok that was difficult <eos>',\n",
              " 'how old are your students  <eos>',\n",
              " '18 <eos>',\n",
              " 'oh very interesting  <eos>',\n",
              " 'what are your hobbies  <eos>',\n",
              " 'what is your favorite book  <eos>',\n",
              " 'i do not read <eos>',\n",
              " 'do you deliver  <eos>',\n",
              " 'i always deliver  <eos>',\n",
              " 'i m doing well how are you  <eos>',\n",
              " 'no i don t do you  <eos>',\n",
              " 'not that i m close to  <eos>',\n",
              " 'i m sure they will be happy  <eos>',\n",
              " 'alright got to go <eos>',\n",
              " 'where are you going  <eos>',\n",
              " 'out to get some fresh air <eos>',\n",
              " 'bye  <eos>',\n",
              " 'hi how are you today <eos>',\n",
              " 'that is horrible i am sorry  <eos>',\n",
              " 'what do you do for a living  <eos>',\n",
              " 'hi there  <eos>',\n",
              " 'so tell me about yourself <eos>',\n",
              " 'i m a chef what do you do  <eos>',\n",
              " 'i got a new job recently  <eos>',\n",
              " 'that s great you are a chef  <eos>',\n",
              " 'no <eos>',\n",
              " 'you  <eos>',\n",
              " 'i live in north carolina  <eos>',\n",
              " 'what city  <eos>',\n",
              " 'i live in riverside colorado  <eos>',\n",
              " 'two <eos>',\n",
              " 'what is your major  <eos>',\n",
              " 'it was okay what do you do  <eos>',\n",
              " 'i m in insurance <eos>',\n",
              " 'what do you like  <eos>',\n",
              " 'where did you grow up  <eos>',\n",
              " 'i grew up in the south  <eos>',\n",
              " 'what city did you grow up in  <eos>',\n",
              " 'where do you live  <eos>',\n",
              " 'how are you  <eos>',\n",
              " 'hi there how are you  <eos>',\n",
              " 'fine where are you  <eos>',\n",
              " 'oh wow do you like cars  <eos>',\n",
              " 'i do  <eos>',\n",
              " 'do you play pobox  <eos>',\n",
              " 'what do you do for a living  <eos>',\n",
              " 'i hate school <eos>',\n",
              " 'i hate school i hate school <eos>',\n",
              " 'seriously  <eos>',\n",
              " 'i love to read <eos>',\n",
              " 'then why are you a teacher  <eos>',\n",
              " 'what do you do for a living  <eos>',\n",
              " 'i don t have many friends too <eos>',\n",
              " 'do you have any pets  <eos>',\n",
              " 'no <eos>',\n",
              " 'oh okay you have any pets  <eos>',\n",
              " 'i don t <eos>',\n",
              " 'i hope you have a good day <eos>',\n",
              " 'what are you up to today  <eos>',\n",
              " 'i will go play soccer <eos>',\n",
              " 'what do you do for work  <eos>',\n",
              " 'i m a student <eos>',\n",
              " 'what are you studying  <eos>',\n",
              " 'art <eos>',\n",
              " 'what city are you from  <eos>',\n",
              " 'chicago and you  <eos>',\n",
              " 'i m in cali what do you do  <eos>',\n",
              " 'where is cali <eos>',\n",
              " 'i am in cali right now  <eos>',\n",
              " 'what do you do for work <eos>',\n",
              " 'it is a small business  <eos>',\n",
              " 'how old are you <eos>',\n",
              " 'i am 25 how are you doing  <eos>',\n",
              " 'what s up <eos>',\n",
              " 'what s up <eos>',\n",
              " 'hello how are you today  <eos>',\n",
              " 'the gym i love running  <eos>',\n",
              " 'i love pizza <eos>',\n",
              " 'i love pizza <eos>',\n",
              " 'i am in cali  <eos>',\n",
              " 'what part of cali <eos>',\n",
              " 'i live in boston  <eos>',\n",
              " 'good stuff <eos>',\n",
              " 'see you  <eos>',\n",
              " 'hi how are you today <eos>',\n",
              " 'good and yourself  <eos>',\n",
              " 'nice do you have any hobbies  <eos>',\n",
              " 'i like playing music <eos>',\n",
              " 'i see the rolling stones <eos>',\n",
              " 'what do you for fun  <eos>',\n",
              " 'how are you  <eos>',\n",
              " 'i am doing well how are you  <eos>',\n",
              " '  <eos>',\n",
              " 'i love to read <eos>',\n",
              " 'zzzz  <eos>',\n",
              " 'i love to read <eos>',\n",
              " 'leave me alone <eos>',\n",
              " 'what do you do for a living  <eos>',\n",
              " 'sorry <eos>',\n",
              " 'i do not know what to say <eos>',\n",
              " 'i love to read <eos>',\n",
              " 'i am not sure what you mean <eos>',\n",
              " 'what s your favorite joke  <eos>',\n",
              " 'i like to read  <eos>',\n",
              " 'why  <eos>',\n",
              " 'i love to read <eos>',\n",
              " 'what colour are your eyes  <eos>',\n",
              " 'so what are you doing  <eos>',\n",
              " 'i am not sure what you mean  <eos>',\n",
              " 'haha <eos>',\n",
              " 'what do you do for a living  <eos>',\n",
              " 'i do not have a job  <eos>',\n",
              " 'well i am not sure  <eos>',\n",
              " 'do you know everything  <eos>',\n",
              " 'i do not know how to do that <eos>',\n",
              " 'i like to play video games  <eos>',\n",
              " 'what s your favorite game  <eos>',\n",
              " 'i like to read  <eos>',\n",
              " 'do you have friends  <eos>',\n",
              " 'i do not have any  <eos>',\n",
              " 'oh that is weird  <eos>',\n",
              " 'so tell me a joke  <eos>',\n",
              " 'hi <eos>',\n",
              " 'hello how are you  <eos>',\n",
              " 'not good aren t you a nigga  <eos>',\n",
              " 'i hate it i hate it  <eos>',\n",
              " 'do you hate yourself  <eos>',\n",
              " 'i hate it i hate it  <eos>',\n",
              " 'what do yiu like  <eos>',\n",
              " 'i am doing well how are you  <eos>',\n",
              " 'normal <eos>',\n",
              " 'hello how are you today  <eos>',\n",
              " 'hello how are you today  <eos>',\n",
              " 'what do you do for a living  <eos>',\n",
              " 'what grade are you in  <eos>',\n",
              " 'i never went to school <eos>',\n",
              " 'what grade do you teach  <eos>',\n",
              " 'i don t teach <eos>',\n",
              " 'do you like me  <eos>',\n",
              " 'why don t you answer me  <eos>',\n",
              " 'i m not enought good for you  <eos>',\n",
              " 'heeeeeeey <eos>',\n",
              " 'i am wwaiting <eos>',\n",
              " 'sexy <eos>',\n",
              " 'i love u honey <eos>',\n",
              " 'i don t have time for it <eos>',\n",
              " 'why  <eos>',\n",
              " 'do you have <eos>',\n",
              " 'i have sex <eos>',\n",
              " 'yes i do i am a <eos>',\n",
              " 'perfect <eos>',\n",
              " 'what is your job  <eos>',\n",
              " 'hummus  <eos>',\n",
              " 'with mushrooms <eos>',\n",
              " 'i have <eos>',\n",
              " 'no are you fluent  <eos>',\n",
              " 'no <eos>',\n",
              " 'no i live in russia <eos>',\n",
              " 'what is her name  <eos>',\n",
              " 'i study <eos>',\n",
              " 'in college <eos>',\n",
              " 'hi <eos>',\n",
              " 'hello how are you  <eos>',\n",
              " 'not bad at all <eos>',\n",
              " 'what do you do for a living  <eos>',\n",
              " 'how are yoy  <eos>',\n",
              " 'i am doing well how are you  <eos>',\n",
              " 'good <eos>',\n",
              " 'what do you do for a living  <eos>',\n",
              " 'i m retired <eos>',\n",
              " 'what did you do  <eos>',\n",
              " 'nothing <eos>',\n",
              " 'what do you do for a living  <eos>',\n",
              " 'nice <eos>',\n",
              " ...]"
            ]
          },
          "metadata": {},
          "execution_count": 11
        }
      ]
    },
    {
      "cell_type": "code",
      "source": [
        "output_tokenizer=Tokenizer(num_words=max_vocab_size,filters='!\"#$%&()*+,-./:;=¿?@[\\\\]^_`{|}~\\t\\n') #Usamos los parámetros que vienen por defecto\n",
        "output_tokenizer.fit_on_texts([\"<sos>\",\"<eos>\"]+output_sentences)\n",
        "output_integer_seq=output_tokenizer.texts_to_sequences(output_sentences)\n",
        "output_input_integer_seq=output_tokenizer.texts_to_sequences(output_sentences_inputs)\n",
        "\n",
        "word2idx_outputs=output_tokenizer.word_index\n",
        "\n",
        "num_words_output=min(len(word2idx_outputs)+1,max_vocab_size)\n",
        "max_out_len=max(len(sen) for sen in output_integer_seq)"
      ],
      "metadata": {
        "id": "3hV11K4UiFEd"
      },
      "execution_count": null,
      "outputs": []
    },
    {
      "cell_type": "code",
      "source": [
        "#Veamos la dimensión de las palabras del vocabulario y la sentencia más larga después de este proceso\n",
        "print('Palabras en el vocab',len(word2idx_outputs))\n",
        "print('Sentencia de salida más larglarga',max_out_len)"
      ],
      "metadata": {
        "colab": {
          "base_uri": "https://localhost:8080/"
        },
        "id": "qegBg9GKfvXo",
        "outputId": "c162fda5-b773-49e2-ea4e-5fc73c2a5a89"
      },
      "execution_count": null,
      "outputs": [
        {
          "output_type": "stream",
          "name": "stdout",
          "text": [
            "Palabras en el vocab 1806\n",
            "Sentencia de salida más larglarga 10\n"
          ]
        }
      ]
    },
    {
      "cell_type": "code",
      "source": [
        "#Para evitar que explote la ram\n",
        "# Por una cuestion de que no explote la RAM se limitará el tamaño de las sentencias de entrada\n",
        "# a la mitad:\n",
        "max_input_len = int(max_input_len)\n",
        "max_out_len = int(max_out_len)"
      ],
      "metadata": {
        "id": "uJwtMr8Kx3St"
      },
      "execution_count": null,
      "outputs": []
    },
    {
      "cell_type": "code",
      "source": [
        "#Veamos la cantidad de rows del dataset\n",
        "print('cantidad de rows del dataset',len(input_integer_seq))"
      ],
      "metadata": {
        "colab": {
          "base_uri": "https://localhost:8080/"
        },
        "id": "ORcdipSYgtQE",
        "outputId": "f0739777-2e5a-4ce3-9ed1-50f5df9a6a04"
      },
      "execution_count": null,
      "outputs": [
        {
          "output_type": "stream",
          "name": "stdout",
          "text": [
            "cantidad de rows del dataset 6033\n"
          ]
        }
      ]
    },
    {
      "cell_type": "code",
      "source": [],
      "metadata": {
        "id": "QDwTiSjNjA2-"
      },
      "execution_count": null,
      "outputs": []
    },
    {
      "cell_type": "code",
      "source": [
        "encoder_input_sequences=pad_sequences(input_integer_seq, maxlen=max_input_len)\n",
        "decoder_input_sequences=pad_sequences(output_input_integer_seq,maxlen=max_out_len, padding='post')\n",
        "\n",
        "decoder_output_sequences = pad_sequences(output_integer_seq, maxlen=max_out_len, padding='post')\n",
        "decoder_targets = to_categorical(decoder_output_sequences, num_classes=num_words_output)"
      ],
      "metadata": {
        "id": "-63BZVOh0Iw3"
      },
      "execution_count": null,
      "outputs": []
    },
    {
      "cell_type": "code",
      "source": [
        "print('encoder_input_sequences shape',encoder_input_sequences.shape)\n",
        "print('dec_input_seq shape',decoder_input_sequences.shape)"
      ],
      "metadata": {
        "colab": {
          "base_uri": "https://localhost:8080/"
        },
        "id": "ihghnltmkVbw",
        "outputId": "63de3d07-6bdd-4fd4-edb4-f94ddea980d6"
      },
      "execution_count": null,
      "outputs": [
        {
          "output_type": "stream",
          "name": "stdout",
          "text": [
            "encoder_input_sequences shape (6033, 9)\n",
            "dec_input_seq shape (6033, 10)\n"
          ]
        }
      ]
    },
    {
      "cell_type": "code",
      "source": [
        "decoder_targets.shape"
      ],
      "metadata": {
        "id": "QJ0IL51k2cEd",
        "outputId": "32c315b7-3464-4c4e-c882-8e5ed317cc07",
        "colab": {
          "base_uri": "https://localhost:8080/"
        }
      },
      "execution_count": null,
      "outputs": [
        {
          "output_type": "execute_result",
          "data": {
            "text/plain": [
              "(6033, 10, 1807)"
            ]
          },
          "metadata": {},
          "execution_count": 18
        }
      ]
    },
    {
      "cell_type": "markdown",
      "metadata": {
        "id": "_CJIsLBbj6rg"
      },
      "source": [
        "### 3 - Preparar los embeddings\n",
        "Utilizar los embeddings de Glove o FastText para transformar los tokens de entrada en vectores"
      ]
    },
    {
      "cell_type": "code",
      "source": [
        "import os\n",
        "import gdown\n",
        "if os.access('gloveembedding.pkl', os.F_OK) is False:\n",
        "    url = 'https://drive.google.com/uc?id=1wlDBOrxPq2-3htQ6ryVo7K1XnzLcfh4r&export=download'\n",
        "    output = 'gloveembedding.pkl'\n",
        "    gdown.download(url, output, quiet=False)"
      ],
      "metadata": {
        "id": "3kC8auRAGo-e",
        "outputId": "efe06f9c-97da-40bc-e523-8f723e26e7f9",
        "colab": {
          "base_uri": "https://localhost:8080/"
        }
      },
      "execution_count": null,
      "outputs": [
        {
          "output_type": "stream",
          "name": "stderr",
          "text": [
            "Downloading...\n",
            "From: https://drive.google.com/uc?id=1wlDBOrxPq2-3htQ6ryVo7K1XnzLcfh4r&export=download\n",
            "To: /content/gloveembedding.pkl\n",
            "100%|██████████| 525M/525M [00:05<00:00, 103MB/s]\n"
          ]
        }
      ]
    },
    {
      "cell_type": "code",
      "source": [
        "class WordsEmbeddings(object):\n",
        "  logger=logging.getLogger(__name__)\n",
        "\n",
        "  def load_model_from_pickle(self):\n",
        "        self.logger.debug(\n",
        "            'loading words embeddings from pickle {}'.format(\n",
        "                self.PKL_PATH\n",
        "            )\n",
        "        )\n",
        "        max_bytes = 2**28 - 1\n",
        "        bytes_in = bytearray(0)\n",
        "        input_size = os.path.getsize(self.PKL_PATH)\n",
        "        with open(self.PKL_PATH, 'rb') as f_in:\n",
        "            for _ in range(0, input_size, max_bytes):\n",
        "                bytes_in += f_in.read(max_bytes)\n",
        "        embeddings = pickle.loads(bytes_in)\n",
        "        self.logger.debug('words embeddings loaded')\n",
        "        return embeddings\n",
        "\n",
        "  def get_words_embeddings(self, words):\n",
        "      words_idxs = self.words2idxs(words)\n",
        "      return self.embeddings[words_idxs]['embedding']\n",
        "\n",
        "  \n",
        "\n",
        "\n",
        "  def words2idxs(self, words):\n",
        "      return np.array([self.word2idx.get(word, -1) for word in words])\n",
        "\n",
        "  def idxs2words(self, idxs):\n",
        "      return np.array([self.idx2word.get(idx, '-1') for idx in idxs])\n",
        "\n",
        "  def load_model_from_pickle(self):\n",
        "      self.logger.debug(\n",
        "          'loading words embeddings from pickle {}'.format(\n",
        "              self.PKL_PATH\n",
        "          )\n",
        "      )\n",
        "      max_bytes = 2**28 - 1\n",
        "      bytes_in = bytearray(0)\n",
        "      input_size = os.path.getsize(self.PKL_PATH)\n",
        "      with open(self.PKL_PATH, 'rb') as f_in:\n",
        "          for _ in range(0, input_size, max_bytes):\n",
        "              bytes_in += f_in.read(max_bytes)\n",
        "      embeddings = pickle.loads(bytes_in)\n",
        "      self.logger.debug('words embeddings loaded')\n",
        "      return embeddings\n",
        "\n",
        "  def convert_model_to_pickle(self):\n",
        "      self.logger.debug(\n",
        "          'converting and loading words embeddings from text file {}'.format(\n",
        "              self.WORD_TO_VEC_MODEL_TXT_PATH\n",
        "          )\n",
        "      )\n",
        "      structure = [('word', np.dtype('U' + str(self.WORD_MAX_SIZE))),\n",
        "                    ('embedding', np.float32, (self.N_FEATURES,))]\n",
        "      structure = np.dtype(structure)\n",
        "      with open(self.WORD_TO_VEC_MODEL_TXT_PATH, encoding=\"utf8\") as words_embeddings_txt:\n",
        "          embeddings_gen = (\n",
        "              (line.split()[0], line.split()[1:]) for line in words_embeddings_txt\n",
        "              if len(line.split()[1:]) == self.N_FEATURES\n",
        "          )\n",
        "          embeddings = np.fromiter(embeddings_gen, structure)\n",
        "      null_embedding = np.array(\n",
        "          [('null_embedding', np.zeros((self.N_FEATURES,), dtype=np.float32))],\n",
        "          dtype=structure\n",
        "      )\n",
        "      embeddings = np.concatenate([embeddings, null_embedding])\n",
        "      max_bytes = 2**28 - 1\n",
        "      bytes_out = pickle.dumps(embeddings, protocol=pickle.HIGHEST_PROTOCOL)\n",
        "      with open(self.PKL_PATH, 'wb') as f_out:\n",
        "          for idx in range(0, len(bytes_out), max_bytes):\n",
        "              f_out.write(bytes_out[idx:idx+max_bytes])\n",
        "      self.logger.debug('words embeddings loaded')\n",
        "      return embeddings\n",
        "\n",
        "  def __init__(self):\n",
        "    words_embedding_pkl=Path(self.PKL_PATH)\n",
        "    if not words_embedding_pkl.is_file():\n",
        "            words_embedding_txt = Path(self.WORD_TO_VEC_MODEL_TXT_PATH)\n",
        "            assert words_embedding_txt.is_file(), 'Words embedding not available'\n",
        "            embeddings = self.convert_model_to_pickle()\n",
        "    else:\n",
        "        embeddings = self.load_model_from_pickle()\n",
        "    self.embeddings = embeddings\n",
        "    index = np.arange(self.embeddings.shape[0])\n",
        "    self.word2idx = dict(zip(self.embeddings['word'], index))\n",
        "    self.idx2word = dict(zip(index, self.embeddings['word']))\n"
      ],
      "metadata": {
        "id": "vgej78W_I9UY"
      },
      "execution_count": null,
      "outputs": []
    },
    {
      "cell_type": "code",
      "source": [
        "class GloveEmbeddings(WordsEmbeddings):\n",
        "    WORD_TO_VEC_MODEL_TXT_PATH = 'glove.twitter.27B.50d.txt'\n",
        "    PKL_PATH = 'gloveembedding.pkl'\n",
        "    N_FEATURES = 50\n",
        "    WORD_MAX_SIZE = 60"
      ],
      "metadata": {
        "id": "wGUdzFLLLehJ"
      },
      "execution_count": null,
      "outputs": []
    },
    {
      "cell_type": "code",
      "source": [
        "model_embeddings = GloveEmbeddings()"
      ],
      "metadata": {
        "id": "mVl1CTjpMPuY"
      },
      "execution_count": null,
      "outputs": []
    },
    {
      "cell_type": "code",
      "source": [
        "print('Estoy cargando')\n",
        "embed_dim = model_embeddings.N_FEATURES\n",
        "words_not_found = []\n",
        "\n",
        "# word_index provieen del tokenizer\n",
        "\n",
        "nb_words = min(max_vocab_size, len(word2idx_inputs)) # vocab_size\n",
        "embedding_matrix = np.zeros((nb_words, embed_dim))\n",
        "for word, i in word2idx_inputs.items():\n",
        "    if i >= nb_words:\n",
        "        continue\n",
        "    embedding_vector = model_embeddings.get_words_embeddings(word)[0]\n",
        "    if (embedding_vector is not None) and len(embedding_vector) > 0:\n",
        "        \n",
        "        embedding_matrix[i] = embedding_vector\n",
        "    else:\n",
        "        words_not_found.append(word)\n"
      ],
      "metadata": {
        "id": "dE2UOA8iOF1i",
        "outputId": "260da28b-74ce-4688-ae8c-ed56a2295ae1",
        "colab": {
          "base_uri": "https://localhost:8080/"
        }
      },
      "execution_count": null,
      "outputs": [
        {
          "output_type": "stream",
          "name": "stdout",
          "text": [
            "Estoy cargando\n"
          ]
        }
      ]
    },
    {
      "cell_type": "markdown",
      "metadata": {
        "id": "3vKbhjtIwPgM"
      },
      "source": [
        "### 4 - Entrenar el modelo\n",
        "Entrenar un modelo basado en el esquema encoder-decoder utilizando los datos generados en los puntos anteriores. Utilice como referencias los ejemplos vistos en clase."
      ]
    },
    {
      "cell_type": "code",
      "source": [
        "max_input_len"
      ],
      "metadata": {
        "id": "ganlQ7vVQ-6K",
        "outputId": "35496d52-9e25-47bc-b2b9-7f40c12c2fe5",
        "colab": {
          "base_uri": "https://localhost:8080/"
        }
      },
      "execution_count": null,
      "outputs": [
        {
          "output_type": "execute_result",
          "data": {
            "text/plain": [
              "9"
            ]
          },
          "metadata": {},
          "execution_count": 24
        }
      ]
    },
    {
      "cell_type": "code",
      "source": [
        "#Definimos las propiedades para entrenar\n",
        "numero_units=128\n",
        "\n",
        "#Encoder\n",
        "encoder_inputs=Input(shape=(max_input_len))\n",
        "\n",
        "encoder_embedding_layer = Embedding(input_dim=nb_words, output_dim=embed_dim, input_length=max_input_len,weights=[embedding_matrix],trainable=False)\n",
        "\n",
        "encoder_inputs_x=encoder_embedding_layer(encoder_inputs)\n",
        "\n",
        "encoder=LSTM(numero_units,return_state=True)\n",
        "encoder_outputs,estado_h,estado_c=encoder(encoder_inputs_x)\n",
        "encoder_states=[estado_h,estado_c]\n",
        "\n",
        "#Decoder\n",
        "decoder_inputs=Input(shape=(max_out_len))\n",
        "decoding_embedding_layer=Embedding(input_dim=num_words_output,output_dim=numero_units, input_length=max_out_len)\n",
        "decoder_inputs_x=decoding_embedding_layer(decoder_inputs)\n",
        "decoder_lstm=LSTM(numero_units,return_sequences=True,return_state=True)\n",
        "decoder_outputs,_,_=decoder_lstm(decoder_inputs_x,initial_state=encoder_states)\n",
        "\n",
        "#Nos vamos con la capa densa\n",
        "decoder_dense=Dense(num_words_output,activation='softmax')\n",
        "decoder_outputs=decoder_dense(decoder_outputs)\n",
        "modelo=Model([encoder_inputs,decoder_inputs],decoder_outputs)\n",
        "\n",
        "modelo.compile(loss='categorical_crossentropy',optimizer=\"Adam\",metrics=['accuracy'])\n",
        "modelo.summary()\n"
      ],
      "metadata": {
        "id": "RugQpbqTRSNB",
        "outputId": "17cb7dc9-c8aa-4093-8dbb-3e75e95856c6",
        "colab": {
          "base_uri": "https://localhost:8080/"
        }
      },
      "execution_count": null,
      "outputs": [
        {
          "output_type": "stream",
          "name": "stdout",
          "text": [
            "Model: \"model\"\n",
            "__________________________________________________________________________________________________\n",
            " Layer (type)                   Output Shape         Param #     Connected to                     \n",
            "==================================================================================================\n",
            " input_1 (InputLayer)           [(None, 9)]          0           []                               \n",
            "                                                                                                  \n",
            " input_2 (InputLayer)           [(None, 10)]         0           []                               \n",
            "                                                                                                  \n",
            " embedding (Embedding)          (None, 9, 50)        89950       ['input_1[0][0]']                \n",
            "                                                                                                  \n",
            " embedding_1 (Embedding)        (None, 10, 128)      231296      ['input_2[0][0]']                \n",
            "                                                                                                  \n",
            " lstm (LSTM)                    [(None, 128),        91648       ['embedding[0][0]']              \n",
            "                                 (None, 128),                                                     \n",
            "                                 (None, 128)]                                                     \n",
            "                                                                                                  \n",
            " lstm_1 (LSTM)                  [(None, 10, 128),    131584      ['embedding_1[0][0]',            \n",
            "                                 (None, 128),                     'lstm[0][1]',                   \n",
            "                                 (None, 128)]                     'lstm[0][2]']                   \n",
            "                                                                                                  \n",
            " dense (Dense)                  (None, 10, 1807)     233103      ['lstm_1[0][0]']                 \n",
            "                                                                                                  \n",
            "==================================================================================================\n",
            "Total params: 777,581\n",
            "Trainable params: 687,631\n",
            "Non-trainable params: 89,950\n",
            "__________________________________________________________________________________________________\n"
          ]
        }
      ]
    },
    {
      "cell_type": "code",
      "source": [
        "#Hacemos el modelo completo compuesto por encoder y decoder.\n",
        "plot_model(modelo, to_file='ploteamos_el_modelo.png',show_shapes=True,show_layer_names=True)"
      ],
      "metadata": {
        "id": "fC3jZzJ2V22m",
        "outputId": "c193b067-1aa5-4de6-f70b-4924c562e22f",
        "colab": {
          "base_uri": "https://localhost:8080/",
          "height": 533
        }
      },
      "execution_count": null,
      "outputs": [
        {
          "output_type": "execute_result",
          "data": {
            "image/png": "[encoded data removed]",
            "text/plain": [
              "<IPython.core.display.Image object>"
            ]
          },
          "metadata": {},
          "execution_count": 26
        }
      ]
    },
    {
      "cell_type": "code",
      "source": [
        "#Definimos el encoder\n",
        "encoder_model=Model(encoder_inputs,encoder_states)"
      ],
      "metadata": {
        "id": "H9rPN_WSWhCs"
      },
      "execution_count": null,
      "outputs": []
    },
    {
      "cell_type": "code",
      "source": [
        "#El modelo decoder es sobre el que vamos a hacer la inferencia\n",
        "decoder_state_input_h=Input(shape=(numero_units,))\n",
        "decoder_state_input_c=Input(shape=(numero_units,))\n",
        "decoder_states_inputs=[decoder_state_input_h,decoder_state_input_c]\n",
        "\n",
        "decoder_inputs_unico=Input(shape=(1,))\n",
        "decoder_inputs_unico_x=decoding_embedding_layer(decoder_inputs_unico)\n",
        "\n",
        "decoder_outputs,estado_h,estado_c=decoder_lstm(decoder_inputs_unico_x,initial_state=decoder_states_inputs)\n",
        "estados_decoder=[estado_h,estado_c]\n",
        "outputs_decoder=decoder_dense(decoder_outputs)\n",
        "modelo_decoder=Model([decoder_inputs_unico]+decoder_states_inputs,[decoder_outputs] + estados_decoder)\n",
        "\n",
        "plot_model(modelo_decoder, to_file='vamos_a_plotear_el_decoder.png', show_shapes=True, show_layer_names=True)"
      ],
      "metadata": {
        "id": "hqIci92nW0Rz",
        "outputId": "efe5abe6-d219-417a-cf82-d09629f25579",
        "colab": {
          "base_uri": "https://localhost:8080/",
          "height": 312
        }
      },
      "execution_count": null,
      "outputs": [
        {
          "output_type": "execute_result",
          "data": {
            "image/png": "[encoded data removed]",
            "text/plain": [
              "<IPython.core.display.Image object>"
            ]
          },
          "metadata": {},
          "execution_count": 28
        }
      ]
    },
    {
      "cell_type": "code",
      "source": [
        "decoder_targets"
      ],
      "metadata": {
        "id": "-kPKRmeKsE9K",
        "outputId": "6f6384a0-2e61-420d-9782-5a029c1d32a4",
        "colab": {
          "base_uri": "https://localhost:8080/"
        }
      },
      "execution_count": null,
      "outputs": [
        {
          "output_type": "execute_result",
          "data": {
            "text/plain": [
              "array([[[0., 0., 0., ..., 0., 0., 0.],\n",
              "        [0., 0., 0., ..., 0., 0., 0.],\n",
              "        [0., 0., 0., ..., 0., 0., 0.],\n",
              "        ...,\n",
              "        [1., 0., 0., ..., 0., 0., 0.],\n",
              "        [1., 0., 0., ..., 0., 0., 0.],\n",
              "        [1., 0., 0., ..., 0., 0., 0.]],\n",
              "\n",
              "       [[0., 0., 0., ..., 0., 0., 0.],\n",
              "        [0., 0., 0., ..., 0., 0., 0.],\n",
              "        [0., 0., 0., ..., 0., 0., 0.],\n",
              "        ...,\n",
              "        [1., 0., 0., ..., 0., 0., 0.],\n",
              "        [1., 0., 0., ..., 0., 0., 0.],\n",
              "        [1., 0., 0., ..., 0., 0., 0.]],\n",
              "\n",
              "       [[0., 0., 0., ..., 0., 0., 0.],\n",
              "        [0., 1., 0., ..., 0., 0., 0.],\n",
              "        [1., 0., 0., ..., 0., 0., 0.],\n",
              "        ...,\n",
              "        [1., 0., 0., ..., 0., 0., 0.],\n",
              "        [1., 0., 0., ..., 0., 0., 0.],\n",
              "        [1., 0., 0., ..., 0., 0., 0.]],\n",
              "\n",
              "       ...,\n",
              "\n",
              "       [[0., 0., 0., ..., 0., 0., 0.],\n",
              "        [0., 0., 0., ..., 0., 0., 0.],\n",
              "        [0., 0., 0., ..., 0., 0., 0.],\n",
              "        ...,\n",
              "        [1., 0., 0., ..., 0., 0., 0.],\n",
              "        [1., 0., 0., ..., 0., 0., 0.],\n",
              "        [1., 0., 0., ..., 0., 0., 0.]],\n",
              "\n",
              "       [[0., 0., 0., ..., 0., 0., 0.],\n",
              "        [0., 0., 0., ..., 0., 0., 0.],\n",
              "        [0., 0., 1., ..., 0., 0., 0.],\n",
              "        ...,\n",
              "        [1., 0., 0., ..., 0., 0., 0.],\n",
              "        [1., 0., 0., ..., 0., 0., 0.],\n",
              "        [1., 0., 0., ..., 0., 0., 0.]],\n",
              "\n",
              "       [[0., 1., 0., ..., 0., 0., 0.],\n",
              "        [1., 0., 0., ..., 0., 0., 0.],\n",
              "        [1., 0., 0., ..., 0., 0., 0.],\n",
              "        ...,\n",
              "        [1., 0., 0., ..., 0., 0., 0.],\n",
              "        [1., 0., 0., ..., 0., 0., 0.],\n",
              "        [1., 0., 0., ..., 0., 0., 0.]]], dtype=float32)"
            ]
          },
          "metadata": {},
          "execution_count": 29
        }
      ]
    },
    {
      "cell_type": "code",
      "source": [
        "decoder_targets.shape"
      ],
      "metadata": {
        "colab": {
          "base_uri": "https://localhost:8080/"
        },
        "id": "AJyeRWdiO2Yv",
        "outputId": "4130fd39-50aa-4218-f713-10958c1a2000"
      },
      "execution_count": null,
      "outputs": [
        {
          "output_type": "execute_result",
          "data": {
            "text/plain": [
              "(6033, 10, 1807)"
            ]
          },
          "metadata": {},
          "execution_count": 30
        }
      ]
    },
    {
      "cell_type": "code",
      "source": [
        "encoder_input_sequences.shape"
      ],
      "metadata": {
        "colab": {
          "base_uri": "https://localhost:8080/"
        },
        "id": "69xDQwtbO799",
        "outputId": "596b5af1-e571-4399-8f3d-b9e0ac1fe02c"
      },
      "execution_count": null,
      "outputs": [
        {
          "output_type": "execute_result",
          "data": {
            "text/plain": [
              "(6033, 9)"
            ]
          },
          "metadata": {},
          "execution_count": 31
        }
      ]
    },
    {
      "cell_type": "code",
      "source": [
        "decoder_input_sequences.shape"
      ],
      "metadata": {
        "colab": {
          "base_uri": "https://localhost:8080/"
        },
        "id": "ijfXBKHUPLy_",
        "outputId": "c6c45f97-3070-4147-ad77-4b7d3f989236"
      },
      "execution_count": null,
      "outputs": [
        {
          "output_type": "execute_result",
          "data": {
            "text/plain": [
              "(6033, 10)"
            ]
          },
          "metadata": {},
          "execution_count": 32
        }
      ]
    },
    {
      "cell_type": "code",
      "source": [
        "decoder_targets.shape"
      ],
      "metadata": {
        "colab": {
          "base_uri": "https://localhost:8080/"
        },
        "id": "T2jWSBmHUWVU",
        "outputId": "01d977e6-6f5a-4877-b58d-aa0278f7607e"
      },
      "execution_count": null,
      "outputs": [
        {
          "output_type": "execute_result",
          "data": {
            "text/plain": [
              "(6033, 10, 1807)"
            ]
          },
          "metadata": {},
          "execution_count": 33
        }
      ]
    },
    {
      "cell_type": "code",
      "source": [
        "#hist = modelo.fit([encoder_input_sequences, decoder_input_sequences],decoder_targets,epochs=10, validation_split=0.2)\n",
        "hist = modelo.fit([encoder_input_sequences, decoder_input_sequences],decoder_targets,epochs=50, validation_split=0.2)\n",
        "#hist=modelo.fit([encoder_input_sequences,decoder_input_sequences],decoder_targets)"
      ],
      "metadata": {
        "id": "pf5WtvTOa087",
        "outputId": "53e94d51-f6d2-48b9-c34d-b2d3956d9b9b",
        "colab": {
          "base_uri": "https://localhost:8080/"
        }
      },
      "execution_count": null,
      "outputs": [
        {
          "output_type": "stream",
          "name": "stdout",
          "text": [
            "Epoch 1/50\n",
            "151/151 [==============================] - 11s 15ms/step - loss: 3.0457 - accuracy: 0.5322 - val_loss: 2.2601 - val_accuracy: 0.6293\n",
            "Epoch 2/50\n",
            "151/151 [==============================] - 1s 10ms/step - loss: 2.0617 - accuracy: 0.6248 - val_loss: 2.0815 - val_accuracy: 0.6556\n",
            "Epoch 3/50\n",
            "151/151 [==============================] - 1s 10ms/step - loss: 1.8210 - accuracy: 0.6780 - val_loss: 1.9290 - val_accuracy: 0.6867\n",
            "Epoch 4/50\n",
            "151/151 [==============================] - 1s 10ms/step - loss: 1.6497 - accuracy: 0.7108 - val_loss: 1.8446 - val_accuracy: 0.7007\n",
            "Epoch 5/50\n",
            "151/151 [==============================] - 1s 9ms/step - loss: 1.5417 - accuracy: 0.7232 - val_loss: 1.7886 - val_accuracy: 0.7064\n",
            "Epoch 6/50\n",
            "151/151 [==============================] - 2s 11ms/step - loss: 1.4641 - accuracy: 0.7333 - val_loss: 1.7523 - val_accuracy: 0.7115\n",
            "Epoch 7/50\n",
            "151/151 [==============================] - 2s 12ms/step - loss: 1.4034 - accuracy: 0.7391 - val_loss: 1.7218 - val_accuracy: 0.7157\n",
            "Epoch 8/50\n",
            "151/151 [==============================] - 1s 10ms/step - loss: 1.3562 - accuracy: 0.7424 - val_loss: 1.7039 - val_accuracy: 0.7161\n",
            "Epoch 9/50\n",
            "151/151 [==============================] - 1s 10ms/step - loss: 1.3172 - accuracy: 0.7452 - val_loss: 1.6902 - val_accuracy: 0.7170\n",
            "Epoch 10/50\n",
            "151/151 [==============================] - 1s 9ms/step - loss: 1.2831 - accuracy: 0.7504 - val_loss: 1.6772 - val_accuracy: 0.7196\n",
            "Epoch 11/50\n",
            "151/151 [==============================] - 2s 10ms/step - loss: 1.2530 - accuracy: 0.7533 - val_loss: 1.6694 - val_accuracy: 0.7204\n",
            "Epoch 12/50\n",
            "151/151 [==============================] - 1s 9ms/step - loss: 1.2261 - accuracy: 0.7577 - val_loss: 1.6629 - val_accuracy: 0.7236\n",
            "Epoch 13/50\n",
            "151/151 [==============================] - 1s 9ms/step - loss: 1.2009 - accuracy: 0.7608 - val_loss: 1.6619 - val_accuracy: 0.7257\n",
            "Epoch 14/50\n",
            "151/151 [==============================] - 1s 9ms/step - loss: 1.1781 - accuracy: 0.7628 - val_loss: 1.6600 - val_accuracy: 0.7287\n",
            "Epoch 15/50\n",
            "151/151 [==============================] - 1s 9ms/step - loss: 1.1575 - accuracy: 0.7650 - val_loss: 1.6577 - val_accuracy: 0.7283\n",
            "Epoch 16/50\n",
            "151/151 [==============================] - 1s 10ms/step - loss: 1.1373 - accuracy: 0.7671 - val_loss: 1.6547 - val_accuracy: 0.7295\n",
            "Epoch 17/50\n",
            "151/151 [==============================] - 1s 10ms/step - loss: 1.1189 - accuracy: 0.7692 - val_loss: 1.6524 - val_accuracy: 0.7305\n",
            "Epoch 18/50\n",
            "151/151 [==============================] - 2s 10ms/step - loss: 1.1006 - accuracy: 0.7716 - val_loss: 1.6570 - val_accuracy: 0.7295\n",
            "Epoch 19/50\n",
            "151/151 [==============================] - 1s 10ms/step - loss: 1.0835 - accuracy: 0.7734 - val_loss: 1.6527 - val_accuracy: 0.7328\n",
            "Epoch 20/50\n",
            "151/151 [==============================] - 1s 9ms/step - loss: 1.0663 - accuracy: 0.7755 - val_loss: 1.6530 - val_accuracy: 0.7323\n",
            "Epoch 21/50\n",
            "151/151 [==============================] - 1s 9ms/step - loss: 1.0508 - accuracy: 0.7772 - val_loss: 1.6550 - val_accuracy: 0.7326\n",
            "Epoch 22/50\n",
            "151/151 [==============================] - 1s 9ms/step - loss: 1.0365 - accuracy: 0.7788 - val_loss: 1.6590 - val_accuracy: 0.7319\n",
            "Epoch 23/50\n",
            "151/151 [==============================] - 1s 9ms/step - loss: 1.0200 - accuracy: 0.7810 - val_loss: 1.6617 - val_accuracy: 0.7347\n",
            "Epoch 24/50\n",
            "151/151 [==============================] - 1s 9ms/step - loss: 1.0061 - accuracy: 0.7825 - val_loss: 1.6590 - val_accuracy: 0.7350\n",
            "Epoch 25/50\n",
            "151/151 [==============================] - 1s 9ms/step - loss: 0.9913 - accuracy: 0.7835 - val_loss: 1.6661 - val_accuracy: 0.7339\n",
            "Epoch 26/50\n",
            "151/151 [==============================] - 1s 9ms/step - loss: 0.9787 - accuracy: 0.7853 - val_loss: 1.6691 - val_accuracy: 0.7355\n",
            "Epoch 27/50\n",
            "151/151 [==============================] - 1s 9ms/step - loss: 0.9652 - accuracy: 0.7875 - val_loss: 1.6707 - val_accuracy: 0.7346\n",
            "Epoch 28/50\n",
            "151/151 [==============================] - 1s 9ms/step - loss: 0.9526 - accuracy: 0.7893 - val_loss: 1.6777 - val_accuracy: 0.7335\n",
            "Epoch 29/50\n",
            "151/151 [==============================] - 1s 9ms/step - loss: 0.9403 - accuracy: 0.7910 - val_loss: 1.6791 - val_accuracy: 0.7350\n",
            "Epoch 30/50\n",
            "151/151 [==============================] - 1s 9ms/step - loss: 0.9275 - accuracy: 0.7928 - val_loss: 1.6829 - val_accuracy: 0.7354\n",
            "Epoch 31/50\n",
            "151/151 [==============================] - 1s 9ms/step - loss: 0.9167 - accuracy: 0.7946 - val_loss: 1.6900 - val_accuracy: 0.7358\n",
            "Epoch 32/50\n",
            "151/151 [==============================] - 2s 10ms/step - loss: 0.9057 - accuracy: 0.7958 - val_loss: 1.6951 - val_accuracy: 0.7357\n",
            "Epoch 33/50\n",
            "151/151 [==============================] - 1s 10ms/step - loss: 0.8941 - accuracy: 0.7982 - val_loss: 1.6962 - val_accuracy: 0.7339\n",
            "Epoch 34/50\n",
            "151/151 [==============================] - 1s 9ms/step - loss: 0.8837 - accuracy: 0.7985 - val_loss: 1.7052 - val_accuracy: 0.7341\n",
            "Epoch 35/50\n",
            "151/151 [==============================] - 1s 9ms/step - loss: 0.8734 - accuracy: 0.8006 - val_loss: 1.7095 - val_accuracy: 0.7341\n",
            "Epoch 36/50\n",
            "151/151 [==============================] - 1s 9ms/step - loss: 0.8639 - accuracy: 0.8024 - val_loss: 1.7149 - val_accuracy: 0.7339\n",
            "Epoch 37/50\n",
            "151/151 [==============================] - 1s 9ms/step - loss: 0.8535 - accuracy: 0.8043 - val_loss: 1.7181 - val_accuracy: 0.7316\n",
            "Epoch 38/50\n",
            "151/151 [==============================] - 1s 9ms/step - loss: 0.8451 - accuracy: 0.8056 - val_loss: 1.7324 - val_accuracy: 0.7351\n",
            "Epoch 39/50\n",
            "151/151 [==============================] - 1s 10ms/step - loss: 0.8357 - accuracy: 0.8079 - val_loss: 1.7287 - val_accuracy: 0.7346\n",
            "Epoch 40/50\n",
            "151/151 [==============================] - 1s 9ms/step - loss: 0.8267 - accuracy: 0.8074 - val_loss: 1.7353 - val_accuracy: 0.7329\n",
            "Epoch 41/50\n",
            "151/151 [==============================] - 2s 10ms/step - loss: 0.8184 - accuracy: 0.8090 - val_loss: 1.7430 - val_accuracy: 0.7343\n",
            "Epoch 42/50\n",
            "151/151 [==============================] - 1s 9ms/step - loss: 0.8096 - accuracy: 0.8115 - val_loss: 1.7445 - val_accuracy: 0.7329\n",
            "Epoch 43/50\n",
            "151/151 [==============================] - 1s 9ms/step - loss: 0.8017 - accuracy: 0.8117 - val_loss: 1.7549 - val_accuracy: 0.7342\n",
            "Epoch 44/50\n",
            "151/151 [==============================] - 1s 9ms/step - loss: 0.7939 - accuracy: 0.8132 - val_loss: 1.7583 - val_accuracy: 0.7329\n",
            "Epoch 45/50\n",
            "151/151 [==============================] - 2s 12ms/step - loss: 0.7859 - accuracy: 0.8149 - val_loss: 1.7713 - val_accuracy: 0.7330\n",
            "Epoch 46/50\n",
            "151/151 [==============================] - 1s 9ms/step - loss: 0.7789 - accuracy: 0.8168 - val_loss: 1.7690 - val_accuracy: 0.7316\n",
            "Epoch 47/50\n",
            "151/151 [==============================] - 1s 9ms/step - loss: 0.7717 - accuracy: 0.8172 - val_loss: 1.7774 - val_accuracy: 0.7331\n",
            "Epoch 48/50\n",
            "151/151 [==============================] - 2s 10ms/step - loss: 0.7644 - accuracy: 0.8190 - val_loss: 1.7853 - val_accuracy: 0.7330\n",
            "Epoch 49/50\n",
            "151/151 [==============================] - 1s 10ms/step - loss: 0.7572 - accuracy: 0.8203 - val_loss: 1.7960 - val_accuracy: 0.7360\n",
            "Epoch 50/50\n",
            "151/151 [==============================] - 1s 9ms/step - loss: 0.7504 - accuracy: 0.8203 - val_loss: 1.8062 - val_accuracy: 0.7307\n"
          ]
        }
      ]
    },
    {
      "cell_type": "markdown",
      "metadata": {
        "id": "Zbwn0ekDy_s2"
      },
      "source": [
        "### 5 - Inferencia\n",
        "Experimentar el funcionamiento de su modelo. Recuerde que debe realizar la inferencia de los modelos por separado de encoder y decoder."
      ]
    },
    {
      "cell_type": "code",
      "source": [
        "#Armemos los conversores\n",
        "idx2word_input={v:k for k,v in word2idx_inputs.items()}\n",
        "idx2word_target={v:k for k,v in word2idx_outputs.items()}"
      ],
      "metadata": {
        "id": "-OgCGVDMsPmA"
      },
      "execution_count": null,
      "outputs": []
    },
    {
      "cell_type": "code",
      "source": [
        "def responder(en_seq):\n",
        "  states_val=encoder_model.predict(en_seq)\n",
        "\n",
        "  target_seq=np.zeros((1,1))\n",
        "  target_seq[0,0]=word2idx_outputs['<sos>']\n",
        "\n",
        "  xbs=word2idx_outputs['<eos>']\n",
        "\n",
        "  output_sentence=[]\n",
        "\n",
        "  for _ in range(max_out_len):\n",
        "    output_tokens,h,c=modelo_decoder.predict([target_seq]+states_val)\n",
        "    idx=np.argmax(output_tokens[0,0,:])\n",
        "\n",
        "    if xbs==idx:\n",
        "      break\n",
        "\n",
        "    word=''\n",
        "    if idx>0:\n",
        "      palabra=idx2word_target[idx]\n",
        "      output_sentence.append(palabra)\n",
        "\n",
        "    states_val=[h,c]\n",
        "\n",
        "    target_seq[0,0]=idx\n",
        "\n",
        "  return ' '.join(output_sentence)"
      ],
      "metadata": {
        "id": "aZjXB2yQs11W"
      },
      "execution_count": null,
      "outputs": []
    },
    {
      "cell_type": "code",
      "source": [
        "pregunta_recibida='Nice to meet you'\n",
        "\n",
        "pregunta_seq=input_tokenizer.texts_to_sequences([pregunta_recibida])[0]\n",
        "#input_seq=encoder_input_sequences(input_seq)\n",
        "encoder_sequence_test=pad_sequences([pregunta_seq],maxlen=max_input_len)\n",
        "respuesta_generada=responder(encoder_sequence_test)\n",
        "print('----------')\n",
        "\n",
        "print('Pregunta:', pregunta_recibida)\n",
        "print('Respuesta:', respuesta_generada)\n",
        "\n",
        "print('----------')"
      ],
      "metadata": {
        "id": "FNmojFStx4k8",
        "outputId": "2bbc3085-20ef-4315-ce5b-f9c159268bd6",
        "colab": {
          "base_uri": "https://localhost:8080/"
        }
      },
      "execution_count": null,
      "outputs": [
        {
          "output_type": "stream",
          "name": "stdout",
          "text": [
            "1/1 [==============================] - 0s 361ms/step\n",
            "1/1 [==============================] - 0s 315ms/step\n",
            "1/1 [==============================] - 0s 16ms/step\n",
            "1/1 [==============================] - 0s 16ms/step\n",
            "1/1 [==============================] - 0s 16ms/step\n",
            "1/1 [==============================] - 0s 16ms/step\n",
            "1/1 [==============================] - 0s 17ms/step\n",
            "1/1 [==============================] - 0s 16ms/step\n",
            "1/1 [==============================] - 0s 19ms/step\n",
            "1/1 [==============================] - 0s 16ms/step\n",
            "1/1 [==============================] - 0s 14ms/step\n",
            "----------\n",
            "Pregunta: Nice to meet you\n",
            "Respuesta: movies the dog and books pets m kind up too\n",
            "----------\n"
          ]
        }
      ]
    }
  ]
}